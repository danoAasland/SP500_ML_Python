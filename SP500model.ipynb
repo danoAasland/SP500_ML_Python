{
  "nbformat": 4,
  "nbformat_minor": 0,
  "metadata": {
    "colab": {
      "name": "SP500model.ipynb",
      "provenance": [],
      "collapsed_sections": [],
      "include_colab_link": true
    },
    "kernelspec": {
      "name": "python3",
      "display_name": "Python 3"
    }
  },
  "cells": [
    {
      "cell_type": "markdown",
      "metadata": {
        "id": "view-in-github",
        "colab_type": "text"
      },
      "source": [
        "<a href=\"https://colab.research.google.com/github/danoAasland/SP500_ML_Python/blob/master/SP500model.ipynb\" target=\"_parent\"><img src=\"https://colab.research.google.com/assets/colab-badge.svg\" alt=\"Open In Colab\"/></a>"
      ]
    },
    {
      "cell_type": "markdown",
      "metadata": {
        "id": "kdN2lzezACZC",
        "colab_type": "text"
      },
      "source": [
        "REQUIRED TO ESTABLISH ENVIRONMENT"
      ]
    },
    {
      "cell_type": "code",
      "metadata": {
        "id": "zCj39usnikIc",
        "colab_type": "code",
        "outputId": "2d05ca7a-d87d-484f-8bb1-671c88c47376",
        "colab": {
          "base_uri": "https://localhost:8080/",
          "height": 238
        }
      },
      "source": [
        "#Required to scrape financial data from Yahoo Stock Market\n",
        "!pip install yfinance"
      ],
      "execution_count": 50,
      "outputs": [
        {
          "output_type": "stream",
          "text": [
            "Requirement already satisfied: yfinance in /usr/local/lib/python3.6/dist-packages (0.1.52)\n",
            "Requirement already satisfied: requests>=2.20 in /usr/local/lib/python3.6/dist-packages (from yfinance) (2.21.0)\n",
            "Requirement already satisfied: numpy>=1.15 in /usr/local/lib/python3.6/dist-packages (from yfinance) (1.17.4)\n",
            "Requirement already satisfied: multitasking>=0.0.7 in /usr/local/lib/python3.6/dist-packages (from yfinance) (0.0.9)\n",
            "Requirement already satisfied: pandas>=0.24 in /usr/local/lib/python3.6/dist-packages (from yfinance) (0.25.3)\n",
            "Requirement already satisfied: certifi>=2017.4.17 in /usr/local/lib/python3.6/dist-packages (from requests>=2.20->yfinance) (2019.11.28)\n",
            "Requirement already satisfied: chardet<3.1.0,>=3.0.2 in /usr/local/lib/python3.6/dist-packages (from requests>=2.20->yfinance) (3.0.4)\n",
            "Requirement already satisfied: idna<2.9,>=2.5 in /usr/local/lib/python3.6/dist-packages (from requests>=2.20->yfinance) (2.8)\n",
            "Requirement already satisfied: urllib3<1.25,>=1.21.1 in /usr/local/lib/python3.6/dist-packages (from requests>=2.20->yfinance) (1.24.3)\n",
            "Requirement already satisfied: pytz>=2017.2 in /usr/local/lib/python3.6/dist-packages (from pandas>=0.24->yfinance) (2018.9)\n",
            "Requirement already satisfied: python-dateutil>=2.6.1 in /usr/local/lib/python3.6/dist-packages (from pandas>=0.24->yfinance) (2.6.1)\n",
            "Requirement already satisfied: six>=1.5 in /usr/local/lib/python3.6/dist-packages (from python-dateutil>=2.6.1->pandas>=0.24->yfinance) (1.12.0)\n"
          ],
          "name": "stdout"
        }
      ]
    },
    {
      "cell_type": "code",
      "metadata": {
        "id": "-LdcHFU4jV2G",
        "colab_type": "code",
        "colab": {}
      },
      "source": [
        "#Libraries\n",
        "from datetime import datetime\n",
        "import yfinance as yf\n",
        "import pandas as pd\n",
        "import numpy as np\n",
        "from sklearn.model_selection import train_test_split\n",
        "from sklearn.metrics import accuracy_score\n",
        "from sklearn.metrics import confusion_matrix\n",
        "#model imports\n",
        "from sklearn import tree #decision tree model\n",
        "from sklearn.linear_model import LogisticRegression #Logistic Regression\n",
        "from sklearn.linear_model import LinearRegression #Linear Regression\n",
        "from sklearn.ensemble import AdaBoostClassifier #Boosted Tree Classifier\n",
        "from sklearn.tree import DecisionTreeClassifier #Two Class Tree Classifier\n",
        "from sklearn.ensemble import RandomForestClassifier #Random Forest Classifier\n",
        "#graphing\n",
        "import matplotlib.pyplot as plt\n",
        "from pandas.plotting import register_matplotlib_converters\n",
        "register_matplotlib_converters()\n",
        "import seaborn as sns\n",
        "sns.set(style=\"darkgrid\")"
      ],
      "execution_count": 0,
      "outputs": []
    },
    {
      "cell_type": "markdown",
      "metadata": {
        "id": "bPrwGjvAAY_r",
        "colab_type": "text"
      },
      "source": [
        "HELPER FUNCTIONS"
      ]
    },
    {
      "cell_type": "code",
      "metadata": {
        "id": "BJPHN3qt_sje",
        "colab_type": "code",
        "colab": {}
      },
      "source": [
        "#function to calc Profit and Loss, and Outcome (+/- valuation for timeframe)\n",
        "#inputs are as follows:\n",
        "#cols = Date, Open, High, Low, Close, Volume, Feat1, Feat2; this is extracted from the dataframe\n",
        "#predArr = output from predict function of given model\n",
        "\n",
        "def modelEvalParams(DF, predArr, probFlag= None):\n",
        "  funcDF = DF.copy()\n",
        "  # create +/- Day col\n",
        "  #funcDF['Outcome'] = funcDF.apply(lambda x: 1 if x['Close'] > x['Open'] else -1, axis=1)\n",
        "\n",
        "  if probFlag == 'reg':\n",
        "    tempList = []\n",
        "    for i in range(0, len(predArr)):\n",
        "      if predArr[i] >= 0.5:\n",
        "        tempList.append(1)\n",
        "      else:\n",
        "        tempList.append(-1)\n",
        "\n",
        "    funcDF['Outcome'] = funcDF.apply(lambda x: 1 if x['Close'] > x['Open'] else -1, axis=1)\n",
        "    funcDF['Predictions'] = tempList\n",
        "    funcDF['AccMetric'] = np.where(funcDF['Predictions'] == funcDF['Outcome'], 1, 0)\n",
        "\n",
        "  elif probFlag == 'probEval':\n",
        "    funcDF['ProbNegTrade'] = extractFrstVal(predArr)\n",
        "    funcDF['ProbPlusTrade'] = extractSecVal(predArr)\n",
        "    funcDF['Predictions'] = funcDF.apply(lambda x: 1 if x['ProbPlusTrade'] > x['ProbNegTrade'] else -1, axis=1)\n",
        "    funcDF['Outcome'] = funcDF.apply(lambda x: 1 if x['Close'] > x['Open'] else -1, axis=1)\n",
        "    funcDF['AccMetric'] = np.where(funcDF['Predictions'] == funcDF['Outcome'], 1, 0)\n",
        "  \n",
        "  elif probFlag == 'lrProb':\n",
        "    funcDF['Predictions'] = predArr.ravel()\n",
        "    funcDF['Predictions'] = funcDF['Predictions'].apply(lambda x: 1 if x > 0.5 else -1)\n",
        "    funcDF['Outcome'] = funcDF.apply(lambda x: 1 if x['Close'] > x['Open'] else -1, axis=1)\n",
        "    funcDF['AccMetric'] = np.where(funcDF['Predictions'] == funcDF['Outcome'], 1, 0)\n",
        "    \n",
        "  else:\n",
        "    #pass predicted values to dataframe\n",
        "    funcDF['Predictions'] = predArr.ravel()\n",
        "    funcDF['Outcome'] = funcDF.apply(lambda x: 1 if x['Close'] > x['Open'] else -1, axis=1)\n",
        "    funcDF['AccMetric'] = np.where(funcDF['Predictions'] == funcDF['Outcome'], 1, 0)\n",
        "  # profit vs loss value\n",
        "  funcDF['pnl'] = funcDF['Close'] - funcDF['Open']\n",
        "  return funcDF"
      ],
      "execution_count": 0,
      "outputs": []
    },
    {
      "cell_type": "code",
      "metadata": {
        "id": "0iLm6FrR_1X5",
        "colab_type": "code",
        "colab": {}
      },
      "source": [
        "#Function takes in the test dataframe, y-predicted values (array), model type (String input)\n",
        "\n",
        "def modelPerfMeasures(DF, mdlTyp, probFlag=None):\n",
        "  funcDF = DF.copy() #copy of dataframe to be modified\n",
        "\n",
        "  if probFlag == 'prob':\n",
        "    yPredict = funcDF.apply(lambda x: 1 if x['ProbPlusTrade'] > x['ProbNegTrade'] else -1, axis=1)\n",
        "    funcDF['Predictions'] = yPredict\n",
        "    yTrue = funcDF['Outcome'].ravel()\n",
        "\n",
        "  else:\n",
        "    yPredict = funcDF['Predictions'].ravel()\n",
        "    yTrue = funcDF['Outcome'].ravel()\n",
        "\n",
        "  #Sharpe Ratio Calc \n",
        "  pnlMean = funcDF['pnl'].mean()\n",
        "  pnlStd = funcDF['pnl'].std()\n",
        "  daysTraded = len(funcDF['pnl'])\n",
        "  sharpesharpeRatio = (np.sqrt(daysTraded)*(pnlMean/pnlStd))\n",
        "  \n",
        "  # multiplies each transaction by 2 to account for Buy and Sell actions\n",
        "  roundTurns = 2 * daysTraded\n",
        "  \n",
        "  #1st and Last trade day dates\n",
        "  funcDF = funcDF.reset_index(drop=True)\n",
        "  endDate = len(funcDF)-1\n",
        "  lastTradeDay = funcDF['Date'][endDate]\n",
        "  try:\n",
        "    firstTradeDay = funcDF['Date'][0]\n",
        "  except:\n",
        "    firstTradeDay = funcDF['Date'][1]\n",
        "  \n",
        "  #total return\n",
        "  totalReturnVal = funcDF['pnl'].sum()\n",
        "  \n",
        "  #Confusion Matrix\n",
        "  try:\n",
        "    tn, fp, fn, tp = confusion_matrix(yTrue, yPredict).ravel()\n",
        "  except:\n",
        "    pass\n",
        "  \n",
        "  #Model selection print values \n",
        "  if mdlTyp == 'LR':\n",
        "    #Acc, Prec, Recall - Linear Regression\n",
        "    eval = accuracy_score(yTrue, yPredict)\n",
        "    print(\"Accuracy of Linear Regression Model is %f\" %(eval))\n",
        "    try:\n",
        "      precScore = tp/(tp + fp)\n",
        "      recallScore = tp/(tp + fn)\n",
        "      print(\"Precision of Linear Regression Model is %f\" %(precScore))\n",
        "      print(\"Recall of Linear Regression Model is %f\" %(recallScore))\n",
        "    except:\n",
        "      pass\n",
        "    \n",
        "  elif mdlTyp == 'BDT':\n",
        "    #Acc, Prec, Recall - Boosted Tree Classifier\n",
        "    eval = accuracy_score(yTrue, yPredict)\n",
        "    print(\"Accuracy of Boosted Tree Model is %f\" %(eval))\n",
        "    try:\n",
        "      precScore = tp/(tp + fp)\n",
        "      recallScore = tp/(tp + fn)\n",
        "      print(\"Precision of Boosted Tree Model is %f\" %(precScore))\n",
        "      print(\"Recall of Boosted Tree Model is %f\" %(recallScore))\n",
        "    except:\n",
        "      pass\n",
        "\n",
        "  elif mdlTyp == 'RFC':\n",
        "    #Acc, Prec, Recall - Random Forest Classifier\n",
        "    eval = accuracy_score(yTrue, yPredict)\n",
        "    print(\"Accuracy of Random Forest Model is %f\" %(eval))\n",
        "    try:\n",
        "      precScore = tp/(tp + fp)\n",
        "      recallScore = tp/(tp + fn)\n",
        "      print(\"Precision of Random Forest Model is %f\" %(precScore))\n",
        "      print(\"Recall of Random Forest Model is %f\" %(recallScore))\n",
        "    except:\n",
        "      pass\n",
        "\n",
        "  elif mdlTyp == 'DT':\n",
        "    #Acc, Prec, Recall - Decision Tree Classifier\n",
        "    eval = accuracy_score(yTrue, yPredict)\n",
        "    print(\"Accuracy of Decision Tree Model is %f\" %(eval))\n",
        "    try:\n",
        "      precScore = tp/(tp + fp)\n",
        "      recallScore = tp/(tp + fn)\n",
        "      print(\"Precision of Decision Tree Model is %f\" %(precScore))\n",
        "      print(\"Recall of Decision Tree Model is %f\" %(recallScore))\n",
        "    except:\n",
        "      pass\n",
        "\n",
        "  elif mdlTyp ==  'LC':\n",
        "    #Acc, Prec, Recall - Logistic Classifier\n",
        "    eval = accuracy_score(yTrue, yPredict)\n",
        "    print(\"Accuracy of Logistic Classifier Model is %f\" %(eval))\n",
        "    try:\n",
        "      precScore = tp/(tp + fp)\n",
        "      recallScore = tp/(tp + fn)\n",
        "      print(\"Precision of Logistic Classifier Model is %f\" %(precScore))\n",
        "      print(\"Recall of Logistic Classifier Model is %f\" %(recallScore))\n",
        "    except:\n",
        "      pass\n",
        "\n",
        "  else:\n",
        "    print(\"***Model Type Error***\")\n",
        "\n",
        "  print('Mean of PnL is %f' %(pnlMean))\n",
        "  print('Standard Dev of PnL is %f' % (pnlStd))\n",
        "  print('Sharpe is %f' % (sharpesharpeRatio))\n",
        "  print('Round turns is %f' % (roundTurns))\n",
        "  print('First trading day {}'.format(firstTradeDay))\n",
        "  print('Last trading day {}'.format(lastTradeDay))\n",
        "  print('Total return %f' % (totalReturnVal))\n",
        "  #print('Confusion Matrix Values: ', tn, fp, fn, tp)\n",
        "\n",
        "  #return only rows where we placed a trade\n",
        "  funcDF = funcDF[funcDF['Predictions'] == 1]\n",
        "  #cumulative sum of returns\n",
        "  funcDF['CumSumPnL'] = np.cumsum(funcDF['pnl'])\n",
        "\n",
        "  # Plot the gains from predictions\n",
        "  ax = plt.axes()\n",
        "  sns.lineplot(x=\"Date\", y=\"CumSumPnL\", data= funcDF)\n",
        "  ax.set_title(\"Cumulative Point Gains\")\n",
        "  plt.show()\n"
      ],
      "execution_count": 0,
      "outputs": []
    },
    {
      "cell_type": "code",
      "metadata": {
        "id": "yaBvmWjiLGHL",
        "colab_type": "code",
        "colab": {}
      },
      "source": [
        "# This is a helper function to trade 1 bar (for example 1 day) with a Buy order at opening session\n",
        "# and a Sell order at closing session. To protect against adverse movements of the price, a STOP order\n",
        "# will limit the loss to the stop level (stop parameter must be a negative number)\n",
        "# each bar must contains the following attributes: \n",
        "# Open, High, Low, Close prices as well as gain = Close - Open and lo = Low - Open\n",
        "\n",
        "def trade_with_stop(bar, slippage = 0, stop=None):\n",
        "    \"\"\"\n",
        "    Given a bar, with a gain obtained by the closing price - opening price\n",
        "    it applies a stop limit order to limit a negative loss\n",
        "    If stop is equal to None, then it returns bar['gain']\n",
        "    \"\"\"\n",
        "    bar['Gain'] = bar['Gain'] - slippage\n",
        "    if stop != None:\n",
        "        real_stop = stop - slippage\n",
        "        if bar['Lo']<=stop:\n",
        "            return real_stop\n",
        "    # stop == None    \n",
        "    return bar['Gain']"
      ],
      "execution_count": 0,
      "outputs": []
    },
    {
      "cell_type": "code",
      "metadata": {
        "id": "HDpLjoZDQywS",
        "colab_type": "code",
        "colab": {}
      },
      "source": [
        "#extracts first value from all lists within nested probability list\n",
        "def extractFrstVal(lst): \n",
        "    return [item[0] for item in lst] "
      ],
      "execution_count": 0,
      "outputs": []
    },
    {
      "cell_type": "code",
      "metadata": {
        "id": "gh7GgmlS6_6H",
        "colab_type": "code",
        "colab": {}
      },
      "source": [
        "#extracts second value from all lists within nested probability list\n",
        "def extractSecVal(lst): \n",
        "    return [item[1] for item in lst] "
      ],
      "execution_count": 0,
      "outputs": []
    },
    {
      "cell_type": "markdown",
      "metadata": {
        "id": "NyU2O9NSAhoK",
        "colab_type": "text"
      },
      "source": [
        "DATA ACQUISITION"
      ]
    },
    {
      "cell_type": "code",
      "metadata": {
        "id": "5DZkbLr6j9Um",
        "colab_type": "code",
        "colab": {}
      },
      "source": [
        "#Assign SP500 date to var, pulls stock data by finance symbol\n",
        "stock = yf.Ticker('^GSPC')"
      ],
      "execution_count": 0,
      "outputs": []
    },
    {
      "cell_type": "code",
      "metadata": {
        "id": "S-AO3h16nF0t",
        "colab_type": "code",
        "outputId": "141644e6-f605-434e-a012-1a71ea9c1ebb",
        "colab": {
          "base_uri": "https://localhost:8080/",
          "height": 1000
        }
      },
      "source": [
        "#Get stocks info\n",
        "stock.info"
      ],
      "execution_count": 58,
      "outputs": [
        {
          "output_type": "execute_result",
          "data": {
            "text/plain": [
              "{'algorithm': None,\n",
              " 'ask': 3194.62,\n",
              " 'askSize': 0,\n",
              " 'averageDailyVolume10Day': 3533976000,\n",
              " 'averageVolume': 3512099523,\n",
              " 'averageVolume10days': 3533976000,\n",
              " 'beta': None,\n",
              " 'bid': 3193.87,\n",
              " 'bidSize': 0,\n",
              " 'circulatingSupply': None,\n",
              " 'currency': 'USD',\n",
              " 'dayHigh': 3198.22,\n",
              " 'dayLow': 3191.03,\n",
              " 'dividendRate': None,\n",
              " 'dividendYield': None,\n",
              " 'exDividendDate': None,\n",
              " 'exchange': 'SNP',\n",
              " 'exchangeTimezoneName': 'America/New_York',\n",
              " 'exchangeTimezoneShortName': 'EST',\n",
              " 'expireDate': None,\n",
              " 'fiftyDayAverage': 3105.57,\n",
              " 'fiftyTwoWeekHigh': 3198.22,\n",
              " 'fiftyTwoWeekLow': 2346.58,\n",
              " 'fiveYearAvgDividendYield': None,\n",
              " 'forwardPE': None,\n",
              " 'fromCurrency': None,\n",
              " 'gmtOffSetMilliseconds': '-18000000',\n",
              " 'isEsgPopulated': False,\n",
              " 'lastMarket': None,\n",
              " 'logo_url': '',\n",
              " 'market': 'us_market',\n",
              " 'marketCap': None,\n",
              " 'maxAge': 1,\n",
              " 'maxSupply': None,\n",
              " 'messageBoardId': 'finmb_INDEXGSPC',\n",
              " 'navPrice': None,\n",
              " 'open': 3195.4,\n",
              " 'openInterest': None,\n",
              " 'payoutRatio': None,\n",
              " 'previousClose': 3191.45,\n",
              " 'priceHint': 2,\n",
              " 'priceToSalesTrailing12Months': None,\n",
              " 'quoteType': 'INDEX',\n",
              " 'regularMarketDayHigh': 3198.22,\n",
              " 'regularMarketDayLow': 3191.03,\n",
              " 'regularMarketOpen': 3195.4,\n",
              " 'regularMarketPreviousClose': 3191.45,\n",
              " 'regularMarketPrice': 3195.4,\n",
              " 'regularMarketVolume': 976508835,\n",
              " 'shortName': 'S&P 500',\n",
              " 'startDate': None,\n",
              " 'strikePrice': None,\n",
              " 'symbol': '^GSPC',\n",
              " 'totalAssets': None,\n",
              " 'tradeable': False,\n",
              " 'trailingAnnualDividendRate': None,\n",
              " 'trailingAnnualDividendYield': None,\n",
              " 'twoHundredDayAverage': 2983.8564,\n",
              " 'volume': 976508835,\n",
              " 'volume24Hr': None,\n",
              " 'volumeAllCurrencies': None,\n",
              " 'yield': None,\n",
              " 'ytdReturn': None}"
            ]
          },
          "metadata": {
            "tags": []
          },
          "execution_count": 58
        }
      ]
    },
    {
      "cell_type": "code",
      "metadata": {
        "id": "lS5AxLW270KP",
        "colab_type": "code",
        "outputId": "7ac4978d-a04c-4ca2-848e-1a20dadb3172",
        "colab": {
          "base_uri": "https://localhost:8080/",
          "height": 34
        }
      },
      "source": [
        "#Scrape Yahoo Finance Function\n",
        "data = yf.download('^GSPC', period= 'ytd', interval='1d')"
      ],
      "execution_count": 59,
      "outputs": [
        {
          "output_type": "stream",
          "text": [
            "\r[*********************100%***********************]  1 of 1 completed\n"
          ],
          "name": "stdout"
        }
      ]
    },
    {
      "cell_type": "code",
      "metadata": {
        "id": "R7Z9RS1AwOSN",
        "colab_type": "code",
        "outputId": "eeeda00d-0175-49b7-bfab-46122633ba11",
        "colab": {
          "base_uri": "https://localhost:8080/",
          "height": 136
        }
      },
      "source": [
        "data.head(2)"
      ],
      "execution_count": 60,
      "outputs": [
        {
          "output_type": "execute_result",
          "data": {
            "text/html": [
              "<div>\n",
              "<style scoped>\n",
              "    .dataframe tbody tr th:only-of-type {\n",
              "        vertical-align: middle;\n",
              "    }\n",
              "\n",
              "    .dataframe tbody tr th {\n",
              "        vertical-align: top;\n",
              "    }\n",
              "\n",
              "    .dataframe thead th {\n",
              "        text-align: right;\n",
              "    }\n",
              "</style>\n",
              "<table border=\"1\" class=\"dataframe\">\n",
              "  <thead>\n",
              "    <tr style=\"text-align: right;\">\n",
              "      <th></th>\n",
              "      <th>Open</th>\n",
              "      <th>High</th>\n",
              "      <th>Low</th>\n",
              "      <th>Close</th>\n",
              "      <th>Adj Close</th>\n",
              "      <th>Volume</th>\n",
              "    </tr>\n",
              "    <tr>\n",
              "      <th>Date</th>\n",
              "      <th></th>\n",
              "      <th></th>\n",
              "      <th></th>\n",
              "      <th></th>\n",
              "      <th></th>\n",
              "      <th></th>\n",
              "    </tr>\n",
              "  </thead>\n",
              "  <tbody>\n",
              "    <tr>\n",
              "      <th>2019-01-02</th>\n",
              "      <td>2476.959961</td>\n",
              "      <td>2519.489990</td>\n",
              "      <td>2467.469971</td>\n",
              "      <td>2510.030029</td>\n",
              "      <td>2510.030029</td>\n",
              "      <td>3733160000</td>\n",
              "    </tr>\n",
              "    <tr>\n",
              "      <th>2019-01-03</th>\n",
              "      <td>2491.919922</td>\n",
              "      <td>2493.139893</td>\n",
              "      <td>2443.959961</td>\n",
              "      <td>2447.889893</td>\n",
              "      <td>2447.889893</td>\n",
              "      <td>3822860000</td>\n",
              "    </tr>\n",
              "  </tbody>\n",
              "</table>\n",
              "</div>"
            ],
            "text/plain": [
              "                   Open         High  ...    Adj Close      Volume\n",
              "Date                                  ...                         \n",
              "2019-01-02  2476.959961  2519.489990  ...  2510.030029  3733160000\n",
              "2019-01-03  2491.919922  2493.139893  ...  2447.889893  3822860000\n",
              "\n",
              "[2 rows x 6 columns]"
            ]
          },
          "metadata": {
            "tags": []
          },
          "execution_count": 60
        }
      ]
    },
    {
      "cell_type": "code",
      "metadata": {
        "id": "OVJgRrfqBMhj",
        "colab_type": "code",
        "colab": {}
      },
      "source": [
        "#set index to standard numeric and convert 'Date' to column\n",
        "data.reset_index(inplace=True)"
      ],
      "execution_count": 0,
      "outputs": []
    },
    {
      "cell_type": "code",
      "metadata": {
        "id": "eRGni-hD2EUV",
        "colab_type": "code",
        "outputId": "77058801-4b5c-41bc-f260-34c6a96a2b60",
        "colab": {
          "base_uri": "https://localhost:8080/",
          "height": 218
        }
      },
      "source": [
        "data.info()"
      ],
      "execution_count": 62,
      "outputs": [
        {
          "output_type": "stream",
          "text": [
            "<class 'pandas.core.frame.DataFrame'>\n",
            "RangeIndex: 243 entries, 0 to 242\n",
            "Data columns (total 7 columns):\n",
            "Date         243 non-null datetime64[ns]\n",
            "Open         243 non-null float64\n",
            "High         243 non-null float64\n",
            "Low          243 non-null float64\n",
            "Close        243 non-null float64\n",
            "Adj Close    243 non-null float64\n",
            "Volume       243 non-null int64\n",
            "dtypes: datetime64[ns](1), float64(5), int64(1)\n",
            "memory usage: 13.4 KB\n"
          ],
          "name": "stdout"
        }
      ]
    },
    {
      "cell_type": "code",
      "metadata": {
        "id": "eUvzh8ZiBv5N",
        "colab_type": "code",
        "colab": {}
      },
      "source": [
        "#drop 'Adj Close'\n",
        "data.drop('Adj Close', inplace=True, axis=1)"
      ],
      "execution_count": 0,
      "outputs": []
    },
    {
      "cell_type": "code",
      "metadata": {
        "id": "h8ZoXwwI-_XP",
        "colab_type": "code",
        "colab": {}
      },
      "source": [
        "#save finance dataframe to csv\n",
        "data.to_csv('yahooFinanceML.csv', index= False)"
      ],
      "execution_count": 0,
      "outputs": []
    },
    {
      "cell_type": "code",
      "metadata": {
        "id": "wDjTFUro9ow7",
        "colab_type": "code",
        "outputId": "134a0ebe-777e-434a-9242-7bc442f610c7",
        "colab": {
          "base_uri": "https://localhost:8080/",
          "height": 301
        }
      },
      "source": [
        "# Plot of Closing Values for S&P 500\n",
        "ax = plt.axes()\n",
        "sns.lineplot(x=\"Date\", y=\"Close\", data= data)\n",
        "ax.set_title('Daily Closing Value - S&P 500')\n",
        "plt.show()\n"
      ],
      "execution_count": 65,
      "outputs": [
        {
          "output_type": "display_data",
          "data": {
            "image/png": "[encoded data removed]",
            "text/plain": [
              "<Figure size 432x288 with 1 Axes>"
            ]
          },
          "metadata": {
            "tags": []
          }
        }
      ]
    },
    {
      "cell_type": "markdown",
      "metadata": {
        "id": "xBjUGEi7CwiZ",
        "colab_type": "text"
      },
      "source": [
        "BASIC FEATURE GENERATION"
      ]
    },
    {
      "cell_type": "code",
      "metadata": {
        "id": "pFrgJdO7C8Ms",
        "colab_type": "code",
        "colab": {}
      },
      "source": [
        "#add the outcome variable, 1 if the trading session was positive (close>open), -1 otherwise\n",
        "data['Outcome'] = np.where(data['Close'] > data['Open'], 1, -1)"
      ],
      "execution_count": 0,
      "outputs": []
    },
    {
      "cell_type": "code",
      "metadata": {
        "id": "dLDADan5B4fL",
        "colab_type": "code",
        "colab": {}
      },
      "source": [
        "#add three new columns ‘Ho’ ‘Lo’ and ‘Gain’\n",
        "#to backtest the model later\n",
        "data['Ho'] = data['High'] - data['Open'] #distance between Highest and Opening price\n",
        "data['Lo'] = data['Low'] - data['Open'] #distance between Lowest and Opening price\n",
        "data['Gain'] = data['Close'] - data['Open'] #distance between open and close price"
      ],
      "execution_count": 0,
      "outputs": []
    },
    {
      "cell_type": "code",
      "metadata": {
        "id": "AkUjFjszHCrO",
        "colab_type": "code",
        "colab": {}
      },
      "source": [
        "# GENERATE LAGGED TIMESERIES\n",
        "timeSeriesDay1 = data.copy().shift(1) # by 1 day\n",
        "timeSeriesDay2 = data.copy().shift(2) # by 2 days"
      ],
      "execution_count": 0,
      "outputs": []
    },
    {
      "cell_type": "code",
      "metadata": {
        "id": "rPE_gDNtHbu9",
        "colab_type": "code",
        "colab": {}
      },
      "source": [
        "#2 Engineered Features to identify if current days close value\n",
        "# is greater than last 1 and 2 days close value\n",
        "data['Feat1'] = data['Close'] > timeSeriesDay1['Close']\n",
        "data['Feat2'] = data['Close'] > timeSeriesDay2['Close']"
      ],
      "execution_count": 0,
      "outputs": []
    },
    {
      "cell_type": "code",
      "metadata": {
        "id": "oB81KmzeUhb5",
        "colab_type": "code",
        "colab": {}
      },
      "source": [
        "data['Feat1'] = np.where(data['Feat1'] == True, 1, 0)"
      ],
      "execution_count": 0,
      "outputs": []
    },
    {
      "cell_type": "code",
      "metadata": {
        "id": "wVmK3Z7ZUvZ8",
        "colab_type": "code",
        "colab": {}
      },
      "source": [
        "data['Feat2'] = np.where(data['Feat2'] == True, 1, 0)"
      ],
      "execution_count": 0,
      "outputs": []
    },
    {
      "cell_type": "code",
      "metadata": {
        "id": "TjXgpGCJ95dj",
        "colab_type": "code",
        "outputId": "c684df84-1f66-4204-ba91-377b0fb8a8bf",
        "colab": {
          "base_uri": "https://localhost:8080/",
          "height": 302
        }
      },
      "source": [
        "#check to ensure features generated successfully\n",
        "data.info()"
      ],
      "execution_count": 72,
      "outputs": [
        {
          "output_type": "stream",
          "text": [
            "<class 'pandas.core.frame.DataFrame'>\n",
            "RangeIndex: 243 entries, 0 to 242\n",
            "Data columns (total 12 columns):\n",
            "Date       243 non-null datetime64[ns]\n",
            "Open       243 non-null float64\n",
            "High       243 non-null float64\n",
            "Low        243 non-null float64\n",
            "Close      243 non-null float64\n",
            "Volume     243 non-null int64\n",
            "Outcome    243 non-null int64\n",
            "Ho         243 non-null float64\n",
            "Lo         243 non-null float64\n",
            "Gain       243 non-null float64\n",
            "Feat1      243 non-null int64\n",
            "Feat2      243 non-null int64\n",
            "dtypes: datetime64[ns](1), float64(7), int64(4)\n",
            "memory usage: 22.9 KB\n"
          ],
          "name": "stdout"
        }
      ]
    },
    {
      "cell_type": "code",
      "metadata": {
        "id": "emDsmjftHMzI",
        "colab_type": "code",
        "colab": {}
      },
      "source": [
        "#Create Train and Test datasets 80/20 split\n",
        "ratio = 0.8\n",
        "trainDF = data[0:round(len(data)*ratio)]\n",
        "testDF = data[round(len(data)*ratio):]"
      ],
      "execution_count": 0,
      "outputs": []
    },
    {
      "cell_type": "code",
      "metadata": {
        "id": "-13blty3HbN6",
        "colab_type": "code",
        "outputId": "3a278f47-f802-417e-c60c-7a9c7f9c66ca",
        "colab": {
          "base_uri": "https://localhost:8080/",
          "height": 34
        }
      },
      "source": [
        "trainDF.shape"
      ],
      "execution_count": 74,
      "outputs": [
        {
          "output_type": "execute_result",
          "data": {
            "text/plain": [
              "(194, 12)"
            ]
          },
          "metadata": {
            "tags": []
          },
          "execution_count": 74
        }
      ]
    },
    {
      "cell_type": "code",
      "metadata": {
        "id": "tPPJr0kEHgAb",
        "colab_type": "code",
        "outputId": "ebed4baf-ee9e-4ad1-cb35-aa3f07313ff1",
        "colab": {
          "base_uri": "https://localhost:8080/",
          "height": 34
        }
      },
      "source": [
        "testDF.shape"
      ],
      "execution_count": 75,
      "outputs": [
        {
          "output_type": "execute_result",
          "data": {
            "text/plain": [
              "(49, 12)"
            ]
          },
          "metadata": {
            "tags": []
          },
          "execution_count": 75
        }
      ]
    },
    {
      "cell_type": "code",
      "metadata": {
        "id": "KsQVzsXOKe5E",
        "colab_type": "code",
        "colab": {}
      },
      "source": [
        "testDF.reset_index(drop= True, inplace= True)"
      ],
      "execution_count": 0,
      "outputs": []
    },
    {
      "cell_type": "code",
      "metadata": {
        "id": "e5-FupAqQSQh",
        "colab_type": "code",
        "colab": {}
      },
      "source": [
        "trainX = trainDF.loc[:, ~trainDF.columns.isin(['Outcome'])]\n",
        "trainY = trainDF.loc[:, trainDF.columns.isin(['Outcome'])]"
      ],
      "execution_count": 0,
      "outputs": []
    },
    {
      "cell_type": "code",
      "metadata": {
        "id": "d5ccCY2nVAPQ",
        "colab_type": "code",
        "colab": {}
      },
      "source": [
        "testX = testDF.loc[:, ~testDF.columns.isin(['Outcome'])]\n",
        "testY = testDF.loc[:, testDF.columns.isin(['Outcome'])]"
      ],
      "execution_count": 0,
      "outputs": []
    },
    {
      "cell_type": "markdown",
      "metadata": {
        "id": "RQqzbFPbGFZr",
        "colab_type": "text"
      },
      "source": [
        "DECISION TREE CLASSIFIER"
      ]
    },
    {
      "cell_type": "code",
      "metadata": {
        "id": "ZvUfFlwzDF6v",
        "colab_type": "code",
        "colab": {}
      },
      "source": [
        "#assign model to var\n",
        "decisionTree = tree.DecisionTreeClassifier(max_depth=None)"
      ],
      "execution_count": 0,
      "outputs": []
    },
    {
      "cell_type": "code",
      "metadata": {
        "id": "ktSPUJAgD1Wa",
        "colab_type": "code",
        "outputId": "ee0352fd-5251-4e74-efb6-92fe2d39a8cc",
        "colab": {
          "base_uri": "https://localhost:8080/",
          "height": 118
        }
      },
      "source": [
        "decisionTree"
      ],
      "execution_count": 80,
      "outputs": [
        {
          "output_type": "execute_result",
          "data": {
            "text/plain": [
              "DecisionTreeClassifier(class_weight=None, criterion='gini', max_depth=None,\n",
              "                       max_features=None, max_leaf_nodes=None,\n",
              "                       min_impurity_decrease=0.0, min_impurity_split=None,\n",
              "                       min_samples_leaf=1, min_samples_split=2,\n",
              "                       min_weight_fraction_leaf=0.0, presort=False,\n",
              "                       random_state=None, splitter='best')"
            ]
          },
          "metadata": {
            "tags": []
          },
          "execution_count": 80
        }
      ]
    },
    {
      "cell_type": "code",
      "metadata": {
        "id": "V0gurw0vD7YO",
        "colab_type": "code",
        "outputId": "b0f8e67f-9203-4b0c-ef66-e2997bec1c62",
        "colab": {
          "base_uri": "https://localhost:8080/",
          "height": 118
        }
      },
      "source": [
        "#Fitting model to train data\n",
        "decisionTree.fit(trainX.drop('Date', axis= 1), trainY)"
      ],
      "execution_count": 81,
      "outputs": [
        {
          "output_type": "execute_result",
          "data": {
            "text/plain": [
              "DecisionTreeClassifier(class_weight=None, criterion='gini', max_depth=None,\n",
              "                       max_features=None, max_leaf_nodes=None,\n",
              "                       min_impurity_decrease=0.0, min_impurity_split=None,\n",
              "                       min_samples_leaf=1, min_samples_split=2,\n",
              "                       min_weight_fraction_leaf=0.0, presort=False,\n",
              "                       random_state=None, splitter='best')"
            ]
          },
          "metadata": {
            "tags": []
          },
          "execution_count": 81
        }
      ]
    },
    {
      "cell_type": "code",
      "metadata": {
        "id": "GAFyHtqoEUdW",
        "colab_type": "code",
        "colab": {}
      },
      "source": [
        "yPredictDT = decisionTree.predict(testX.drop('Date', axis= 1))"
      ],
      "execution_count": 0,
      "outputs": []
    },
    {
      "cell_type": "code",
      "metadata": {
        "id": "DX-jJaPNJF0_",
        "colab_type": "code",
        "colab": {}
      },
      "source": [
        "#model evaluation dataframe\n",
        "decisionTreeDF = modelEvalParams(testX, yPredictDT)"
      ],
      "execution_count": 0,
      "outputs": []
    },
    {
      "cell_type": "code",
      "metadata": {
        "id": "n6Tup_55J6Rp",
        "colab_type": "code",
        "outputId": "123b0f2a-0628-43a8-9c71-91a1f57ace1c",
        "colab": {
          "base_uri": "https://localhost:8080/",
          "height": 469
        }
      },
      "source": [
        "modelPerfMeasures(decisionTreeDF, 'DT')"
      ],
      "execution_count": 84,
      "outputs": [
        {
          "output_type": "stream",
          "text": [
            "Accuracy of Decision Tree Model is 0.979592\n",
            "Precision of Decision Tree Model is 1.000000\n",
            "Recall of Decision Tree Model is 0.967742\n",
            "Mean of PnL is 3.387735\n",
            "Standard Dev of PnL is 10.130568\n",
            "Sharpe is 2.340850\n",
            "Round turns is 98.000000\n",
            "First trading day 2019-10-09 00:00:00\n",
            "Last trading day 2019-12-17 00:00:00\n",
            "Total return 165.999023\n"
          ],
          "name": "stdout"
        },
        {
          "output_type": "display_data",
          "data": {
            "image/png": "[encoded data removed]",
            "text/plain": [
              "<Figure size 432x288 with 1 Axes>"
            ]
          },
          "metadata": {
            "tags": []
          }
        }
      ]
    },
    {
      "cell_type": "code",
      "metadata": {
        "id": "skQ8xB1oECif",
        "colab_type": "code",
        "colab": {}
      },
      "source": [
        "SLIPPAGE = 0.6\n",
        "STOP = -3\n",
        "trades = decisionTreeDF[decisionTreeDF['Predictions'] == 1][['Date', 'Gain', 'Ho', 'Lo', 'Open', 'Close']]"
      ],
      "execution_count": 0,
      "outputs": []
    },
    {
      "cell_type": "code",
      "metadata": {
        "id": "V2JpeMY7HAdR",
        "colab_type": "code",
        "colab": {}
      },
      "source": [
        "trades['pnl'] = trades.apply(lambda x: trade_with_stop(x, slippage=SLIPPAGE, stop=STOP), axis=1)"
      ],
      "execution_count": 0,
      "outputs": []
    },
    {
      "cell_type": "code",
      "metadata": {
        "id": "RRsm0mg1N_yw",
        "colab_type": "code",
        "colab": {}
      },
      "source": [
        "trades['pnl'] = np.cumsum(trades['pnl'])"
      ],
      "execution_count": 0,
      "outputs": []
    },
    {
      "cell_type": "code",
      "metadata": {
        "id": "to_WAz9rIM1Z",
        "colab_type": "code",
        "outputId": "9a0e3cfc-c94b-4420-8cd5-d6b843f48a2b",
        "colab": {
          "base_uri": "https://localhost:8080/",
          "height": 301
        }
      },
      "source": [
        "# Plot the gains from predictions\n",
        "ax = plt.axes()\n",
        "sns.lineplot(x=\"Date\", y=\"pnl\", data= trades)\n",
        "ax.set_title(\"Cumulative Point Gains [Slippage, Stop] - Decision Tree\")\n",
        "plt.show()"
      ],
      "execution_count": 88,
      "outputs": [
        {
          "output_type": "display_data",
          "data": {
            "image/png": "[encoded data removed]",
            "text/plain": [
              "<Figure size 432x288 with 1 Axes>"
            ]
          },
          "metadata": {
            "tags": []
          }
        }
      ]
    },
    {
      "cell_type": "code",
      "metadata": {
        "id": "us3jyFrgG3y_",
        "colab_type": "code",
        "outputId": "4fe27724-1f97-4e12-a047-9450efc7d834",
        "colab": {
          "base_uri": "https://localhost:8080/",
          "height": 34
        }
      },
      "source": [
        "print(\"Slippage is %s, STOP level at %s\" % (SLIPPAGE, STOP))"
      ],
      "execution_count": 89,
      "outputs": [
        {
          "output_type": "stream",
          "text": [
            "Slippage is 0.6, STOP level at -3\n"
          ],
          "name": "stdout"
        }
      ]
    },
    {
      "cell_type": "markdown",
      "metadata": {
        "id": "tXwTkcbWqa2Y",
        "colab_type": "text"
      },
      "source": [
        "PREDICTING PROBABILITY - DECISION TREE"
      ]
    },
    {
      "cell_type": "code",
      "metadata": {
        "id": "qE2xUmvLrgE8",
        "colab_type": "code",
        "colab": {}
      },
      "source": [
        "probDT = decisionTree.predict_proba(testX.drop('Date', axis= 1))"
      ],
      "execution_count": 0,
      "outputs": []
    },
    {
      "cell_type": "code",
      "metadata": {
        "id": "Lw4LhkKGNGSb",
        "colab_type": "code",
        "colab": {
          "base_uri": "https://localhost:8080/",
          "height": 195
        },
        "outputId": "96815031-4ebb-437d-cb17-d2fdb1e92243"
      },
      "source": [
        "testX.head()"
      ],
      "execution_count": 91,
      "outputs": [
        {
          "output_type": "execute_result",
          "data": {
            "text/html": [
              "<div>\n",
              "<style scoped>\n",
              "    .dataframe tbody tr th:only-of-type {\n",
              "        vertical-align: middle;\n",
              "    }\n",
              "\n",
              "    .dataframe tbody tr th {\n",
              "        vertical-align: top;\n",
              "    }\n",
              "\n",
              "    .dataframe thead th {\n",
              "        text-align: right;\n",
              "    }\n",
              "</style>\n",
              "<table border=\"1\" class=\"dataframe\">\n",
              "  <thead>\n",
              "    <tr style=\"text-align: right;\">\n",
              "      <th></th>\n",
              "      <th>Date</th>\n",
              "      <th>Open</th>\n",
              "      <th>High</th>\n",
              "      <th>Low</th>\n",
              "      <th>Close</th>\n",
              "      <th>Volume</th>\n",
              "      <th>Ho</th>\n",
              "      <th>Lo</th>\n",
              "      <th>Gain</th>\n",
              "      <th>Feat1</th>\n",
              "      <th>Feat2</th>\n",
              "    </tr>\n",
              "  </thead>\n",
              "  <tbody>\n",
              "    <tr>\n",
              "      <th>0</th>\n",
              "      <td>2019-10-09</td>\n",
              "      <td>2911.100098</td>\n",
              "      <td>2929.320068</td>\n",
              "      <td>2907.409912</td>\n",
              "      <td>2919.399902</td>\n",
              "      <td>2726820000</td>\n",
              "      <td>18.219971</td>\n",
              "      <td>-3.690186</td>\n",
              "      <td>8.299805</td>\n",
              "      <td>1</td>\n",
              "      <td>0</td>\n",
              "    </tr>\n",
              "    <tr>\n",
              "      <th>1</th>\n",
              "      <td>2019-10-10</td>\n",
              "      <td>2918.550049</td>\n",
              "      <td>2948.459961</td>\n",
              "      <td>2917.120117</td>\n",
              "      <td>2938.129883</td>\n",
              "      <td>3217250000</td>\n",
              "      <td>29.909912</td>\n",
              "      <td>-1.429932</td>\n",
              "      <td>19.579834</td>\n",
              "      <td>1</td>\n",
              "      <td>1</td>\n",
              "    </tr>\n",
              "    <tr>\n",
              "      <th>2</th>\n",
              "      <td>2019-10-11</td>\n",
              "      <td>2963.070068</td>\n",
              "      <td>2993.280029</td>\n",
              "      <td>2963.070068</td>\n",
              "      <td>2970.270020</td>\n",
              "      <td>3580460000</td>\n",
              "      <td>30.209961</td>\n",
              "      <td>0.000000</td>\n",
              "      <td>7.199951</td>\n",
              "      <td>1</td>\n",
              "      <td>1</td>\n",
              "    </tr>\n",
              "    <tr>\n",
              "      <th>3</th>\n",
              "      <td>2019-10-14</td>\n",
              "      <td>2965.810059</td>\n",
              "      <td>2972.840088</td>\n",
              "      <td>2962.939941</td>\n",
              "      <td>2966.149902</td>\n",
              "      <td>2557020000</td>\n",
              "      <td>7.030029</td>\n",
              "      <td>-2.870117</td>\n",
              "      <td>0.339844</td>\n",
              "      <td>0</td>\n",
              "      <td>1</td>\n",
              "    </tr>\n",
              "    <tr>\n",
              "      <th>4</th>\n",
              "      <td>2019-10-15</td>\n",
              "      <td>2973.610107</td>\n",
              "      <td>3003.280029</td>\n",
              "      <td>2973.610107</td>\n",
              "      <td>2995.679932</td>\n",
              "      <td>3340740000</td>\n",
              "      <td>29.669922</td>\n",
              "      <td>0.000000</td>\n",
              "      <td>22.069824</td>\n",
              "      <td>1</td>\n",
              "      <td>1</td>\n",
              "    </tr>\n",
              "  </tbody>\n",
              "</table>\n",
              "</div>"
            ],
            "text/plain": [
              "        Date         Open         High  ...       Gain  Feat1  Feat2\n",
              "0 2019-10-09  2911.100098  2929.320068  ...   8.299805      1      0\n",
              "1 2019-10-10  2918.550049  2948.459961  ...  19.579834      1      1\n",
              "2 2019-10-11  2963.070068  2993.280029  ...   7.199951      1      1\n",
              "3 2019-10-14  2965.810059  2972.840088  ...   0.339844      0      1\n",
              "4 2019-10-15  2973.610107  3003.280029  ...  22.069824      1      1\n",
              "\n",
              "[5 rows x 11 columns]"
            ]
          },
          "metadata": {
            "tags": []
          },
          "execution_count": 91
        }
      ]
    },
    {
      "cell_type": "code",
      "metadata": {
        "id": "eyrQq-RMRSRM",
        "colab_type": "code",
        "colab": {}
      },
      "source": [
        "#model evaluation dataframe\n",
        "probDecisionTreeDF = modelEvalParams(testX, probDT, probFlag='prob')"
      ],
      "execution_count": 0,
      "outputs": []
    },
    {
      "cell_type": "code",
      "metadata": {
        "id": "3t7n0ZJpUC91",
        "colab_type": "code",
        "outputId": "be6b4d20-be80-49d7-94b8-8af4d18692ec",
        "colab": {
          "base_uri": "https://localhost:8080/",
          "height": 469
        }
      },
      "source": [
        "modelPerfMeasures(probDecisionTreeDF, 'DT', probFlag=True)"
      ],
      "execution_count": 94,
      "outputs": [
        {
          "output_type": "stream",
          "text": [
            "Accuracy of Decision Tree Model is 0.979592\n",
            "Precision of Decision Tree Model is 1.000000\n",
            "Recall of Decision Tree Model is 0.967742\n",
            "Mean of PnL is 3.387735\n",
            "Standard Dev of PnL is 10.130568\n",
            "Sharpe is 2.340850\n",
            "Round turns is 98.000000\n",
            "First trading day 2019-10-09 00:00:00\n",
            "Last trading day 2019-12-17 00:00:00\n",
            "Total return 165.999023\n"
          ],
          "name": "stdout"
        },
        {
          "output_type": "display_data",
          "data": {
            "image/png": "[encoded data removed]",
            "text/plain": [
              "<Figure size 432x288 with 1 Axes>"
            ]
          },
          "metadata": {
            "tags": []
          }
        }
      ]
    },
    {
      "cell_type": "code",
      "metadata": {
        "id": "Cs_ToEG6EtyH",
        "colab_type": "code",
        "colab": {}
      },
      "source": [
        "pnlProb = probDecisionTreeDF[probDecisionTreeDF['Predictions'] == 1]['Gain'] # the gain column contains (Close - Open) values"
      ],
      "execution_count": 0,
      "outputs": []
    },
    {
      "cell_type": "code",
      "metadata": {
        "id": "3NKmtZ0HB3DN",
        "colab_type": "code",
        "colab": {}
      },
      "source": [
        "drawdown = pnlProb - np.maximum.accumulate(pnlProb)\n",
        "max_drawdown = min(drawdown)"
      ],
      "execution_count": 0,
      "outputs": []
    },
    {
      "cell_type": "code",
      "metadata": {
        "id": "Zq3linzyDNGH",
        "colab_type": "code",
        "outputId": "b38913d7-f238-4a01-b05f-1f5b6beff313",
        "colab": {
          "base_uri": "https://localhost:8080/",
          "height": 34
        }
      },
      "source": [
        "max_drawdown"
      ],
      "execution_count": 97,
      "outputs": [
        {
          "output_type": "execute_result",
          "data": {
            "text/plain": [
              "-25.18994140625"
            ]
          },
          "metadata": {
            "tags": []
          },
          "execution_count": 97
        }
      ]
    },
    {
      "cell_type": "code",
      "metadata": {
        "id": "IcgDhM7ohD4F",
        "colab_type": "code",
        "colab": {}
      },
      "source": [
        "#bar = data\n",
        "#slippage = 0 - 1 decimal value to represent cost of trans\n",
        "#stop = lowest tolerated \"point\" deviation\n",
        "#mult = Dollar value per share\n",
        "#commission = Broker cost for trade\n",
        "#probability threshold to select positive day/signal to initiate trade at open and sell at close\n",
        "#target = outcome col class\n",
        "def backTestGain(bar, slippage = 0, stop= None, MULT = 25, COMMISSION = 1, threshold = 0.5):\n",
        "  bar['NetGain'] = (bar['Gain'] - slippage) * MULT - (2 * COMMISSION)\n",
        "  bar = bar[bar['ProbPlusTrade'] >= threshold]\n",
        "  if stop != None:\n",
        "    real_stop = stop - slippage\n",
        "    if bar['Lo']<=stop:\n",
        "      return real_stop\n",
        "  return bar"
      ],
      "execution_count": 0,
      "outputs": []
    },
    {
      "cell_type": "code",
      "metadata": {
        "id": "pauaHGxa_J8X",
        "colab_type": "code",
        "colab": {}
      },
      "source": [
        "probDecisionTreeDF = backTestGain(probDecisionTreeDF)"
      ],
      "execution_count": 0,
      "outputs": []
    },
    {
      "cell_type": "code",
      "metadata": {
        "id": "N3GArTnEaIPk",
        "colab_type": "code",
        "outputId": "6a72e3b4-12a8-43f5-af24-51eb7333f0b2",
        "colab": {
          "base_uri": "https://localhost:8080/",
          "height": 435
        }
      },
      "source": [
        "modelPerfMeasures(probDecisionTreeDF, 'DT', probFlag='prob')"
      ],
      "execution_count": 105,
      "outputs": [
        {
          "output_type": "stream",
          "text": [
            "Accuracy of Decision Tree Model is 1.000000\n",
            "Mean of PnL is 9.472632\n",
            "Standard Dev of PnL is 6.451211\n",
            "Sharpe is 8.042481\n",
            "Round turns is 60.000000\n",
            "First trading day 2019-10-09 00:00:00\n",
            "Last trading day 2019-12-16 00:00:00\n",
            "Total return 284.178955\n"
          ],
          "name": "stdout"
        },
        {
          "output_type": "display_data",
          "data": {
            "image/png": "[encoded data removed]",
            "text/plain": [
              "<Figure size 432x288 with 1 Axes>"
            ]
          },
          "metadata": {
            "tags": []
          }
        }
      ]
    },
    {
      "cell_type": "markdown",
      "metadata": {
        "id": "eYVAfjWtinfP",
        "colab_type": "text"
      },
      "source": [
        "LOGISTIC CLASSIFIER"
      ]
    },
    {
      "cell_type": "code",
      "metadata": {
        "id": "Cj1aVVKHR0AK",
        "colab_type": "code",
        "colab": {}
      },
      "source": [
        "modelLC = LogisticRegression(solver= 'lbfgs')"
      ],
      "execution_count": 0,
      "outputs": []
    },
    {
      "cell_type": "code",
      "metadata": {
        "id": "jR-gyusDSgWt",
        "colab_type": "code",
        "outputId": "5a42fbf3-36e2-48e2-cb1a-80eaa62fb9c6",
        "colab": {
          "base_uri": "https://localhost:8080/",
          "height": 101
        }
      },
      "source": [
        "modelLC.fit(trainX.drop('Date', axis=1), trainY.Outcome)"
      ],
      "execution_count": 172,
      "outputs": [
        {
          "output_type": "execute_result",
          "data": {
            "text/plain": [
              "LogisticRegression(C=1.0, class_weight=None, dual=False, fit_intercept=True,\n",
              "                   intercept_scaling=1, l1_ratio=None, max_iter=100,\n",
              "                   multi_class='warn', n_jobs=None, penalty='l2',\n",
              "                   random_state=None, solver='lbfgs', tol=0.0001, verbose=0,\n",
              "                   warm_start=False)"
            ]
          },
          "metadata": {
            "tags": []
          },
          "execution_count": 172
        }
      ]
    },
    {
      "cell_type": "code",
      "metadata": {
        "id": "0gnDf99ISlbr",
        "colab_type": "code",
        "colab": {}
      },
      "source": [
        "probLC = modelLC.predict_proba(testX.drop('Date', axis= 1))"
      ],
      "execution_count": 0,
      "outputs": []
    },
    {
      "cell_type": "code",
      "metadata": {
        "id": "guuY7gqLk_Qg",
        "colab_type": "code",
        "colab": {}
      },
      "source": [
        "#model evaluation dataframe\n",
        "probLCDF = modelEvalParams(testX, probLC, probFlag='probEval')"
      ],
      "execution_count": 0,
      "outputs": []
    },
    {
      "cell_type": "code",
      "metadata": {
        "id": "pZSgEZSBlFas",
        "colab_type": "code",
        "outputId": "d5b1d3f2-d2f8-493a-a008-ea371931ac9e",
        "colab": {
          "base_uri": "https://localhost:8080/",
          "height": 469
        }
      },
      "source": [
        "modelPerfMeasures(probLCDF, 'LC', probFlag='prob')"
      ],
      "execution_count": 116,
      "outputs": [
        {
          "output_type": "stream",
          "text": [
            "Accuracy of Logistic Classifier Model is 0.632653\n",
            "Precision of Logistic Classifier Model is 0.632653\n",
            "Recall of Logistic Classifier Model is 1.000000\n",
            "Mean of PnL is 3.387735\n",
            "Standard Dev of PnL is 10.130568\n",
            "Sharpe is 2.340850\n",
            "Round turns is 98.000000\n",
            "First trading day 2019-10-09 00:00:00\n",
            "Last trading day 2019-12-17 00:00:00\n",
            "Total return 165.999023\n"
          ],
          "name": "stdout"
        },
        {
          "output_type": "display_data",
          "data": {
            "image/png": "[encoded data removed]",
            "text/plain": [
              "<Figure size 432x288 with 1 Axes>"
            ]
          },
          "metadata": {
            "tags": []
          }
        }
      ]
    },
    {
      "cell_type": "code",
      "metadata": {
        "id": "ET4sq6WqY1WS",
        "colab_type": "code",
        "colab": {}
      },
      "source": [
        "pnlProb = probLCDF[probLCDF['Predictions'] == 1]"
      ],
      "execution_count": 0,
      "outputs": []
    },
    {
      "cell_type": "code",
      "metadata": {
        "id": "u8U8Xi3xZIbP",
        "colab_type": "code",
        "colab": {}
      },
      "source": [
        "SLIPPAGE = 0\n",
        "STOP = -3\n",
        "pnlProb['pnl'] = pnlProb.apply(lambda x: trade_with_stop(x, slippage=SLIPPAGE, stop=STOP), axis= 1)"
      ],
      "execution_count": 0,
      "outputs": []
    },
    {
      "cell_type": "code",
      "metadata": {
        "id": "AGZtHbh0nE09",
        "colab_type": "code",
        "colab": {}
      },
      "source": [
        "pnlProb['pnl'] = np.cumsum(pnlProb['pnl'])"
      ],
      "execution_count": 0,
      "outputs": []
    },
    {
      "cell_type": "code",
      "metadata": {
        "id": "ztbA_xFkcgaH",
        "colab_type": "code",
        "outputId": "036cb768-27e1-473c-d74b-2efc444d9a25",
        "colab": {
          "base_uri": "https://localhost:8080/",
          "height": 301
        }
      },
      "source": [
        "# Plot the gains from predictions\n",
        "ax = plt.axes()\n",
        "sns.lineplot(x=\"Date\", y=\"pnl\", data= pnlProb)\n",
        "ax.set_title(\"Cumulative Point Gains [Probability Prediction] - Logistic Classifier\")\n",
        "plt.show()"
      ],
      "execution_count": 122,
      "outputs": [
        {
          "output_type": "display_data",
          "data": {
            "image/png": "[encoded data removed]",
            "text/plain": [
              "<Figure size 432x288 with 1 Axes>"
            ]
          },
          "metadata": {
            "tags": []
          }
        }
      ]
    },
    {
      "cell_type": "markdown",
      "metadata": {
        "id": "ZNefA1HcnYx4",
        "colab_type": "text"
      },
      "source": [
        "LINEAR REGRESSION MODEL"
      ]
    },
    {
      "cell_type": "code",
      "metadata": {
        "id": "YAbaMp4NcPWV",
        "colab_type": "code",
        "colab": {}
      },
      "source": [
        "modelLR = LinearRegression(normalize=True)"
      ],
      "execution_count": 0,
      "outputs": []
    },
    {
      "cell_type": "code",
      "metadata": {
        "id": "PHULR3wbb1RB",
        "colab_type": "code",
        "outputId": "43899593-0909-4dc1-cbbf-d51214f9c7dc",
        "colab": {
          "base_uri": "https://localhost:8080/",
          "height": 34
        }
      },
      "source": [
        "modelLR.fit(trainX.drop('Date', axis= 1), trainY)"
      ],
      "execution_count": 125,
      "outputs": [
        {
          "output_type": "execute_result",
          "data": {
            "text/plain": [
              "LinearRegression(copy_X=True, fit_intercept=True, n_jobs=None, normalize=True)"
            ]
          },
          "metadata": {
            "tags": []
          },
          "execution_count": 125
        }
      ]
    },
    {
      "cell_type": "code",
      "metadata": {
        "id": "l1F5cgVWVQQp",
        "colab_type": "code",
        "colab": {}
      },
      "source": [
        "predictLR = modelLR.predict(testX.drop('Date', axis= 1))"
      ],
      "execution_count": 0,
      "outputs": []
    },
    {
      "cell_type": "code",
      "metadata": {
        "id": "czUDTfzMiGBw",
        "colab_type": "code",
        "colab": {}
      },
      "source": [
        "predictions_max, predictions_min = max(predictLR), min(predictLR)\n",
        "predictions_prob = (predictLR - predictions_min)/(predictions_max - predictions_min)"
      ],
      "execution_count": 0,
      "outputs": []
    },
    {
      "cell_type": "code",
      "metadata": {
        "id": "ieSbb3NSmex2",
        "colab_type": "code",
        "outputId": "a4b73c7c-bd83-480a-c643-90c9e3be08cc",
        "colab": {
          "base_uri": "https://localhost:8080/",
          "height": 34
        }
      },
      "source": [
        "predictions_max, predictions_min"
      ],
      "execution_count": 128,
      "outputs": [
        {
          "output_type": "execute_result",
          "data": {
            "text/plain": [
              "(array([1.21266824]), array([-1.1680154]))"
            ]
          },
          "metadata": {
            "tags": []
          },
          "execution_count": 128
        }
      ]
    },
    {
      "cell_type": "code",
      "metadata": {
        "id": "TpGltvPXgtqi",
        "colab_type": "code",
        "colab": {}
      },
      "source": [
        "#model evaluation dataframe\n",
        "modelLRDF = modelEvalParams(testX, predictions_prob, 'lrProb')"
      ],
      "execution_count": 0,
      "outputs": []
    },
    {
      "cell_type": "code",
      "metadata": {
        "id": "lcMzXmHjhEgd",
        "colab_type": "code",
        "outputId": "94a40189-30f9-4418-8c0c-444744711ded",
        "colab": {
          "base_uri": "https://localhost:8080/",
          "height": 469
        }
      },
      "source": [
        "modelPerfMeasures(modelLRDF, 'LR', probFlag=None)"
      ],
      "execution_count": 160,
      "outputs": [
        {
          "output_type": "stream",
          "text": [
            "Accuracy of Linear Regression Model is 0.755102\n",
            "Precision of Linear Regression Model is 0.787879\n",
            "Recall of Linear Regression Model is 0.838710\n",
            "Mean of PnL is 3.387735\n",
            "Standard Dev of PnL is 10.130568\n",
            "Sharpe is 2.340850\n",
            "Round turns is 98.000000\n",
            "First trading day 2019-10-09 00:00:00\n",
            "Last trading day 2019-12-17 00:00:00\n",
            "Total return 165.999023\n"
          ],
          "name": "stdout"
        },
        {
          "output_type": "display_data",
          "data": {
            "image/png": "[encoded data removed]",
            "text/plain": [
              "<Figure size 432x288 with 1 Axes>"
            ]
          },
          "metadata": {
            "tags": []
          }
        }
      ]
    },
    {
      "cell_type": "markdown",
      "metadata": {
        "id": "VcUFu7FAnlHY",
        "colab_type": "text"
      },
      "source": [
        "BOOSTED DECISION TREE [ADABOOST]"
      ]
    },
    {
      "cell_type": "code",
      "metadata": {
        "id": "JIwIfFKWrEo3",
        "colab_type": "code",
        "colab": {}
      },
      "source": [
        "modelBDT = AdaBoostClassifier(DecisionTreeClassifier(max_depth=1),\n",
        "                         algorithm=\"SAMME\",\n",
        "                         n_estimators=100)"
      ],
      "execution_count": 0,
      "outputs": []
    },
    {
      "cell_type": "code",
      "metadata": {
        "id": "couyjThIxVCT",
        "colab_type": "code",
        "outputId": "2db4cd9a-f080-4c84-9751-888c086f3902",
        "colab": {
          "base_uri": "https://localhost:8080/",
          "height": 269
        }
      },
      "source": [
        "modelBDT.fit(trainX.drop('Date', axis=1), trainY.Outcome)"
      ],
      "execution_count": 133,
      "outputs": [
        {
          "output_type": "execute_result",
          "data": {
            "text/plain": [
              "AdaBoostClassifier(algorithm='SAMME',\n",
              "                   base_estimator=DecisionTreeClassifier(class_weight=None,\n",
              "                                                         criterion='gini',\n",
              "                                                         max_depth=1,\n",
              "                                                         max_features=None,\n",
              "                                                         max_leaf_nodes=None,\n",
              "                                                         min_impurity_decrease=0.0,\n",
              "                                                         min_impurity_split=None,\n",
              "                                                         min_samples_leaf=1,\n",
              "                                                         min_samples_split=2,\n",
              "                                                         min_weight_fraction_leaf=0.0,\n",
              "                                                         presort=False,\n",
              "                                                         random_state=None,\n",
              "                                                         splitter='best'),\n",
              "                   learning_rate=1.0, n_estimators=100, random_state=None)"
            ]
          },
          "metadata": {
            "tags": []
          },
          "execution_count": 133
        }
      ]
    },
    {
      "cell_type": "code",
      "metadata": {
        "id": "2UifK1hLyBvb",
        "colab_type": "code",
        "colab": {}
      },
      "source": [
        "predictBDT = modelBDT.predict(testX.drop('Date', axis=1))"
      ],
      "execution_count": 0,
      "outputs": []
    },
    {
      "cell_type": "code",
      "metadata": {
        "id": "7pQIXwrJWzu1",
        "colab_type": "code",
        "colab": {}
      },
      "source": [
        "#model evaluation dataframe\n",
        "modelBDTDF = modelEvalParams(testX, predictBDT)"
      ],
      "execution_count": 0,
      "outputs": []
    },
    {
      "cell_type": "code",
      "metadata": {
        "id": "Hj15lLP0W1-5",
        "colab_type": "code",
        "outputId": "6a2f9773-774d-49bc-f14a-957688422cc6",
        "colab": {
          "base_uri": "https://localhost:8080/",
          "height": 469
        }
      },
      "source": [
        "modelPerfMeasures(modelBDTDF, 'BDT')"
      ],
      "execution_count": 136,
      "outputs": [
        {
          "output_type": "stream",
          "text": [
            "Accuracy of Boosted Tree Model is 0.979592\n",
            "Precision of Boosted Tree Model is 1.000000\n",
            "Recall of Boosted Tree Model is 0.967742\n",
            "Mean of PnL is 3.387735\n",
            "Standard Dev of PnL is 10.130568\n",
            "Sharpe is 2.340850\n",
            "Round turns is 98.000000\n",
            "First trading day 2019-10-09 00:00:00\n",
            "Last trading day 2019-12-17 00:00:00\n",
            "Total return 165.999023\n"
          ],
          "name": "stdout"
        },
        {
          "output_type": "display_data",
          "data": {
            "image/png": "[encoded data removed]",
            "text/plain": [
              "<Figure size 432x288 with 1 Axes>"
            ]
          },
          "metadata": {
            "tags": []
          }
        }
      ]
    },
    {
      "cell_type": "markdown",
      "metadata": {
        "id": "oahebh_6nyas",
        "colab_type": "text"
      },
      "source": [
        "RANDOM FOREST CLASSIFIER"
      ]
    },
    {
      "cell_type": "code",
      "metadata": {
        "id": "r_KOpiB51dE8",
        "colab_type": "code",
        "colab": {}
      },
      "source": [
        "modelRandF = RandomForestClassifier(max_depth=2, n_estimators=10, random_state=0)"
      ],
      "execution_count": 0,
      "outputs": []
    },
    {
      "cell_type": "code",
      "metadata": {
        "id": "Gf4jCP972ivg",
        "colab_type": "code",
        "outputId": "62f741f2-e4a2-48fd-d17b-d8379c3a7621",
        "colab": {
          "base_uri": "https://localhost:8080/",
          "height": 134
        }
      },
      "source": [
        "modelRandF.fit(trainX.drop('Date', axis=1), trainY.Outcome)"
      ],
      "execution_count": 138,
      "outputs": [
        {
          "output_type": "execute_result",
          "data": {
            "text/plain": [
              "RandomForestClassifier(bootstrap=True, class_weight=None, criterion='gini',\n",
              "                       max_depth=2, max_features='auto', max_leaf_nodes=None,\n",
              "                       min_impurity_decrease=0.0, min_impurity_split=None,\n",
              "                       min_samples_leaf=1, min_samples_split=2,\n",
              "                       min_weight_fraction_leaf=0.0, n_estimators=10,\n",
              "                       n_jobs=None, oob_score=False, random_state=0, verbose=0,\n",
              "                       warm_start=False)"
            ]
          },
          "metadata": {
            "tags": []
          },
          "execution_count": 138
        }
      ]
    },
    {
      "cell_type": "code",
      "metadata": {
        "id": "T6RX90012707",
        "colab_type": "code",
        "colab": {}
      },
      "source": [
        "predictRandF = modelRandF.predict(testX.drop('Date', axis=1))"
      ],
      "execution_count": 0,
      "outputs": []
    },
    {
      "cell_type": "code",
      "metadata": {
        "id": "cWBtAJMlYGHB",
        "colab_type": "code",
        "colab": {}
      },
      "source": [
        "#model evaluation dataframe\n",
        "modelRFDF = modelEvalParams(testX, predictRandF)"
      ],
      "execution_count": 0,
      "outputs": []
    },
    {
      "cell_type": "code",
      "metadata": {
        "id": "UtpabRtJYRrt",
        "colab_type": "code",
        "outputId": "93899fb9-d0d5-4532-a5e8-c3f099af3a0f",
        "colab": {
          "base_uri": "https://localhost:8080/",
          "height": 469
        }
      },
      "source": [
        "modelPerfMeasures(modelBDTDF, 'RFC')"
      ],
      "execution_count": 141,
      "outputs": [
        {
          "output_type": "stream",
          "text": [
            "Accuracy of Random Forest Model is 0.979592\n",
            "Precision of Random Forest Model is 1.000000\n",
            "Recall of Random Forest Model is 0.967742\n",
            "Mean of PnL is 3.387735\n",
            "Standard Dev of PnL is 10.130568\n",
            "Sharpe is 2.340850\n",
            "Round turns is 98.000000\n",
            "First trading day 2019-10-09 00:00:00\n",
            "Last trading day 2019-12-17 00:00:00\n",
            "Total return 165.999023\n"
          ],
          "name": "stdout"
        },
        {
          "output_type": "display_data",
          "data": {
            "image/png": "[encoded data removed]",
            "text/plain": [
              "<Figure size 432x288 with 1 Axes>"
            ]
          },
          "metadata": {
            "tags": []
          }
        }
      ]
    },
    {
      "cell_type": "markdown",
      "metadata": {
        "id": "zvfMMQAtn_Gk",
        "colab_type": "text"
      },
      "source": [
        "CUMULATIVE PnL VALUE FOR ALL MODELS"
      ]
    },
    {
      "cell_type": "code",
      "metadata": {
        "id": "k1ZMJbeDoE4T",
        "colab_type": "code",
        "colab": {}
      },
      "source": [
        "#model evaluation Random Forest\n",
        "modelRFDF = modelEvalParams(testX, predictRandF)\n",
        "\n",
        "#model evaluation Boosted Decision Tree [AdaBoost]\n",
        "modelBDTDF = modelEvalParams(testX, predictBDT)\n",
        "\n",
        "#model evaluation Linear Regression\n",
        "modelLRDF = modelEvalParams(testX, predictions_prob, 'lrProb')\n",
        "\n",
        "#model evaluation dataframe\n",
        "probLCDF = modelEvalParams(testX, probLC, probFlag='probEval')\n",
        "\n",
        "#model evaluation Decision Tree\n",
        "decisionTreeDF = modelEvalParams(testX, yPredictDT)"
      ],
      "execution_count": 0,
      "outputs": []
    },
    {
      "cell_type": "code",
      "metadata": {
        "id": "vWWk3KcWaay1",
        "colab_type": "code",
        "colab": {}
      },
      "source": [
        "conCatPnL = pd.concat([modelRFDF['pnl'], modelBDTDF['pnl'], modelLRDF['pnl'], probLCDF['pnl'], decisionTreeDF['pnl']], axis=1)"
      ],
      "execution_count": 0,
      "outputs": []
    },
    {
      "cell_type": "code",
      "metadata": {
        "id": "UzlQVVP_VIuI",
        "colab_type": "code",
        "colab": {}
      },
      "source": [
        "#conCatPnL"
      ],
      "execution_count": 0,
      "outputs": []
    },
    {
      "cell_type": "code",
      "metadata": {
        "id": "-PZQ8JZjbSfW",
        "colab_type": "code",
        "colab": {}
      },
      "source": [
        "conCatPnL['PnlSum'] = conCatPnL.sum(axis=1)"
      ],
      "execution_count": 0,
      "outputs": []
    },
    {
      "cell_type": "code",
      "metadata": {
        "id": "9jsvkI6pj_jf",
        "colab_type": "code",
        "colab": {}
      },
      "source": [
        "pnlSumArr = conCatPnL.PnlSum"
      ],
      "execution_count": 0,
      "outputs": []
    },
    {
      "cell_type": "code",
      "metadata": {
        "id": "x35V_fPRkRq8",
        "colab_type": "code",
        "colab": {}
      },
      "source": [
        "pnlCumSumArr = np.cumsum(pnlSumArr)"
      ],
      "execution_count": 0,
      "outputs": []
    },
    {
      "cell_type": "code",
      "metadata": {
        "id": "roE-kMwNjnsH",
        "colab_type": "code",
        "outputId": "4699be58-8db8-4ffe-fb4a-d5d164a63398",
        "colab": {
          "base_uri": "https://localhost:8080/",
          "height": 284
        }
      },
      "source": [
        "# Plot the gains from predictions\n",
        "ax = plt.axes()\n",
        "sns.lineplot(data= pnlCumSumArr)\n",
        "ax.set_title(\"Cumulative PnL of ALL Models\")\n",
        "plt.show()"
      ],
      "execution_count": 190,
      "outputs": [
        {
          "output_type": "display_data",
          "data": {
            "image/png": "[encoded data removed]",
            "text/plain": [
              "<Figure size 432x288 with 1 Axes>"
            ]
          },
          "metadata": {
            "tags": []
          }
        }
      ]
    },
    {
      "cell_type": "markdown",
      "metadata": {
        "id": "MIpkAQLHk3qG",
        "colab_type": "text"
      },
      "source": [
        "ALL MODELS - PRECISION"
      ]
    },
    {
      "cell_type": "code",
      "metadata": {
        "id": "qbj8UpRwPDYO",
        "colab_type": "code",
        "colab": {}
      },
      "source": [
        "def sharpeRatioCalc(DF):\n",
        "  pnlMean = DF['pnl'].mean()\n",
        "  pnlStd = DF['pnl'].std()\n",
        "  daysTraded = len(DF['pnl'])\n",
        "  sharpeRatio = (np.sqrt(daysTraded)*(pnlMean/pnlStd))\n",
        "  return sharpeRatio"
      ],
      "execution_count": 0,
      "outputs": []
    },
    {
      "cell_type": "code",
      "metadata": {
        "id": "0zMqtBZBnshz",
        "colab_type": "code",
        "colab": {}
      },
      "source": [
        "from sklearn.metrics import accuracy_score\n",
        "\n",
        "from sklearn.metrics import precision_score"
      ],
      "execution_count": 0,
      "outputs": []
    },
    {
      "cell_type": "code",
      "metadata": {
        "id": "nZ2X9sxnk7HL",
        "colab_type": "code",
        "colab": {}
      },
      "source": [
        "def modelAcPrec(DF1):\n",
        "  dfTemp = []\n",
        "  dfTemp.append(accuracy_score(DF1.Outcome.values, DF1.Predictions.values))\n",
        "  dfTemp.append(precision_score(DF1.Outcome.values, DF1.Predictions.values))\n",
        "  dfTemp.append(sharpeRatioCalc(DF1))\n",
        "  dfTemp.append(2 * len(DF1['pnl']))\n",
        "  return dfTemp"
      ],
      "execution_count": 0,
      "outputs": []
    },
    {
      "cell_type": "code",
      "metadata": {
        "id": "bZTFXLkuqnwZ",
        "colab_type": "code",
        "colab": {}
      },
      "source": [
        "linRegres = modelAcPrec(modelLRDF)"
      ],
      "execution_count": 0,
      "outputs": []
    },
    {
      "cell_type": "code",
      "metadata": {
        "id": "rNlFXG-tuKHu",
        "colab_type": "code",
        "colab": {}
      },
      "source": [
        "ranForest = modelAcPrec(modelRFDF)"
      ],
      "execution_count": 0,
      "outputs": []
    },
    {
      "cell_type": "code",
      "metadata": {
        "id": "WcN6cB7quU5i",
        "colab_type": "code",
        "colab": {}
      },
      "source": [
        "boostTree = modelAcPrec(modelBDTDF)"
      ],
      "execution_count": 0,
      "outputs": []
    },
    {
      "cell_type": "code",
      "metadata": {
        "id": "OI19LdCtucgH",
        "colab_type": "code",
        "colab": {}
      },
      "source": [
        "decTree = modelAcPrec(decisionTreeDF)"
      ],
      "execution_count": 0,
      "outputs": []
    },
    {
      "cell_type": "code",
      "metadata": {
        "id": "0iQriekNujTj",
        "colab_type": "code",
        "colab": {}
      },
      "source": [
        "logRegres = modelAcPrec(probLCDF)"
      ],
      "execution_count": 0,
      "outputs": []
    },
    {
      "cell_type": "code",
      "metadata": {
        "id": "KE9AzzY5vCQI",
        "colab_type": "code",
        "outputId": "91bcad78-adb6-46eb-ec39-789b7b0e4791",
        "colab": {
          "base_uri": "https://localhost:8080/",
          "height": 195
        }
      },
      "source": [
        "# output trans dataframe, cols are accuracy, precision, sharpe, turns\n",
        "tempDF = pd.DataFrame()\n",
        "tempDF['LinearRegress'] = linRegres\n",
        "tempDF['RandomForest'] = ranForest\n",
        "tempDF['Boosted Tree'] = boostTree\n",
        "tempDF['DecisionTree'] = decTree\n",
        "tempDF['LogisticRegress'] = logRegres\n",
        "tempDF.T"
      ],
      "execution_count": 200,
      "outputs": [
        {
          "output_type": "execute_result",
          "data": {
            "text/html": [
              "<div>\n",
              "<style scoped>\n",
              "    .dataframe tbody tr th:only-of-type {\n",
              "        vertical-align: middle;\n",
              "    }\n",
              "\n",
              "    .dataframe tbody tr th {\n",
              "        vertical-align: top;\n",
              "    }\n",
              "\n",
              "    .dataframe thead th {\n",
              "        text-align: right;\n",
              "    }\n",
              "</style>\n",
              "<table border=\"1\" class=\"dataframe\">\n",
              "  <thead>\n",
              "    <tr style=\"text-align: right;\">\n",
              "      <th></th>\n",
              "      <th>0</th>\n",
              "      <th>1</th>\n",
              "      <th>2</th>\n",
              "      <th>3</th>\n",
              "    </tr>\n",
              "  </thead>\n",
              "  <tbody>\n",
              "    <tr>\n",
              "      <th>LinearRegress</th>\n",
              "      <td>0.755102</td>\n",
              "      <td>0.787879</td>\n",
              "      <td>2.34085</td>\n",
              "      <td>98.0</td>\n",
              "    </tr>\n",
              "    <tr>\n",
              "      <th>RandomForest</th>\n",
              "      <td>1.000000</td>\n",
              "      <td>1.000000</td>\n",
              "      <td>2.34085</td>\n",
              "      <td>98.0</td>\n",
              "    </tr>\n",
              "    <tr>\n",
              "      <th>Boosted Tree</th>\n",
              "      <td>0.979592</td>\n",
              "      <td>1.000000</td>\n",
              "      <td>2.34085</td>\n",
              "      <td>98.0</td>\n",
              "    </tr>\n",
              "    <tr>\n",
              "      <th>DecisionTree</th>\n",
              "      <td>0.979592</td>\n",
              "      <td>1.000000</td>\n",
              "      <td>2.34085</td>\n",
              "      <td>98.0</td>\n",
              "    </tr>\n",
              "    <tr>\n",
              "      <th>LogisticRegress</th>\n",
              "      <td>0.632653</td>\n",
              "      <td>0.632653</td>\n",
              "      <td>2.34085</td>\n",
              "      <td>98.0</td>\n",
              "    </tr>\n",
              "  </tbody>\n",
              "</table>\n",
              "</div>"
            ],
            "text/plain": [
              "                        0         1        2     3\n",
              "LinearRegress    0.755102  0.787879  2.34085  98.0\n",
              "RandomForest     1.000000  1.000000  2.34085  98.0\n",
              "Boosted Tree     0.979592  1.000000  2.34085  98.0\n",
              "DecisionTree     0.979592  1.000000  2.34085  98.0\n",
              "LogisticRegress  0.632653  0.632653  2.34085  98.0"
            ]
          },
          "metadata": {
            "tags": []
          },
          "execution_count": 200
        }
      ]
    },
    {
      "cell_type": "markdown",
      "metadata": {
        "id": "vBRufm5Iwnau",
        "colab_type": "text"
      },
      "source": [
        "ALL MODEL AGGREGATION"
      ]
    },
    {
      "cell_type": "code",
      "metadata": {
        "id": "tZXi7S-gwuKx",
        "colab_type": "code",
        "colab": {}
      },
      "source": [
        "#place models in order from largest singular precision to least\n",
        "def aggAllModelsFinance(m1, m2, m3, m4, m5):\n",
        "  m1p = m1[1]\n",
        "  m2p = m2[1]\n",
        "  m3p = m3[1]\n",
        "  m4p = m4[1]\n",
        "  m5p = m5[1]\n",
        "  print('One Model Precision: ')\n",
        "  print(m1p)\n",
        "  print('Two Models Precision: ')\n",
        "  print((m1p + m2p) / 2)\n",
        "  print('Three Models Precision: ')\n",
        "  print((m1p + m2p + m3p) / 3)\n",
        "  print('Four Models Precision: ')\n",
        "  print((m1p + m2p + m3p + m4p) / 4)\n",
        "  print('Five Models Precision: ')\n",
        "  print((m1p + m2p + m3p + m4p + m5p) / 5)\n"
      ],
      "execution_count": 0,
      "outputs": []
    },
    {
      "cell_type": "code",
      "metadata": {
        "id": "OSFDqTJDVmO5",
        "colab_type": "code",
        "colab": {
          "base_uri": "https://localhost:8080/",
          "height": 185
        },
        "outputId": "e0951b86-4ebf-425d-ed04-64c42cecc725"
      },
      "source": [
        "aggAllModelsFinance(linRegres, ranForest, boostTree, decTree, logRegres)"
      ],
      "execution_count": 207,
      "outputs": [
        {
          "output_type": "stream",
          "text": [
            "One Model Precision: \n",
            "0.7878787878787878\n",
            "Two Models Precision: \n",
            "0.8939393939393939\n",
            "Three Models Precision: \n",
            "0.9292929292929294\n",
            "Four Models Precision: \n",
            "0.946969696969697\n",
            "Five Models Precision: \n",
            "0.8841063698206556\n"
          ],
          "name": "stdout"
        }
      ]
    },
    {
      "cell_type": "code",
      "metadata": {
        "id": "3wX_QIHCv3FH",
        "colab_type": "code",
        "colab": {}
      },
      "source": [
        ""
      ],
      "execution_count": 0,
      "outputs": []
    }
  ]
}