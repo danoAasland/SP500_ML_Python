{
  "nbformat": 4,
  "nbformat_minor": 0,
  "metadata": {
    "colab": {
      "name": "SP500model.ipynb",
      "provenance": [],
      "collapsed_sections": [],
      "include_colab_link": true
    },
    "kernelspec": {
      "name": "python3",
      "display_name": "Python 3"
    }
  },
  "cells": [
    {
      "cell_type": "markdown",
      "metadata": {
        "id": "view-in-github",
        "colab_type": "text"
      },
      "source": [
        "<a href=\"https://colab.research.google.com/github/danoAasland/SP500_ML_Python/blob/master/SP500model.ipynb\" target=\"_parent\"><img src=\"https://colab.research.google.com/assets/colab-badge.svg\" alt=\"Open In Colab\"/></a>"
      ]
    },
    {
      "cell_type": "markdown",
      "metadata": {
        "id": "kdN2lzezACZC",
        "colab_type": "text"
      },
      "source": [
        "REQUIRED TO ESTABLISH ENVIRONMENT"
      ]
    },
    {
      "cell_type": "code",
      "metadata": {
        "id": "zCj39usnikIc",
        "colab_type": "code",
        "colab": {
          "base_uri": "https://localhost:8080/",
          "height": 353
        },
        "outputId": "2419ab96-721e-4a5f-b02b-63ce764acfa0"
      },
      "source": [
        "#Required to scrape financial data from Yahoo Stock Market\n",
        "!pip install yfinance"
      ],
      "execution_count": 2,
      "outputs": [
        {
          "output_type": "stream",
          "text": [
            "Collecting yfinance\n",
            "  Downloading https://files.pythonhosted.org/packages/55/86/121a975a2dafa153648674db104f2a12a20bf0a4afad5caec0434b2bba91/yfinance-0.1.52.tar.gz\n",
            "Requirement already satisfied: pandas>=0.24 in /usr/local/lib/python3.6/dist-packages (from yfinance) (0.25.3)\n",
            "Requirement already satisfied: numpy>=1.15 in /usr/local/lib/python3.6/dist-packages (from yfinance) (1.17.4)\n",
            "Requirement already satisfied: requests>=2.20 in /usr/local/lib/python3.6/dist-packages (from yfinance) (2.21.0)\n",
            "Requirement already satisfied: multitasking>=0.0.7 in /usr/local/lib/python3.6/dist-packages (from yfinance) (0.0.9)\n",
            "Requirement already satisfied: pytz>=2017.2 in /usr/local/lib/python3.6/dist-packages (from pandas>=0.24->yfinance) (2018.9)\n",
            "Requirement already satisfied: python-dateutil>=2.6.1 in /usr/local/lib/python3.6/dist-packages (from pandas>=0.24->yfinance) (2.6.1)\n",
            "Requirement already satisfied: urllib3<1.25,>=1.21.1 in /usr/local/lib/python3.6/dist-packages (from requests>=2.20->yfinance) (1.24.3)\n",
            "Requirement already satisfied: certifi>=2017.4.17 in /usr/local/lib/python3.6/dist-packages (from requests>=2.20->yfinance) (2019.11.28)\n",
            "Requirement already satisfied: chardet<3.1.0,>=3.0.2 in /usr/local/lib/python3.6/dist-packages (from requests>=2.20->yfinance) (3.0.4)\n",
            "Requirement already satisfied: idna<2.9,>=2.5 in /usr/local/lib/python3.6/dist-packages (from requests>=2.20->yfinance) (2.8)\n",
            "Requirement already satisfied: six>=1.5 in /usr/local/lib/python3.6/dist-packages (from python-dateutil>=2.6.1->pandas>=0.24->yfinance) (1.12.0)\n",
            "Building wheels for collected packages: yfinance\n",
            "  Building wheel for yfinance (setup.py) ... \u001b[?25l\u001b[?25hdone\n",
            "  Created wheel for yfinance: filename=yfinance-0.1.52-py2.py3-none-any.whl size=21997 sha256=edd3d358589996f7277a1071bd97bd55c914e1db0e91f696886a489fb4a2363a\n",
            "  Stored in directory: /root/.cache/pip/wheels/1b/9d/ce/929e851fc7d649cd962c177220ad985675785aa97c54df5714\n",
            "Successfully built yfinance\n",
            "Installing collected packages: yfinance\n",
            "Successfully installed yfinance-0.1.52\n"
          ],
          "name": "stdout"
        }
      ]
    },
    {
      "cell_type": "code",
      "metadata": {
        "id": "-LdcHFU4jV2G",
        "colab_type": "code",
        "colab": {}
      },
      "source": [
        "#Libraries\n",
        "from datetime import datetime\n",
        "import yfinance as yf\n",
        "import pandas as pd\n",
        "import numpy as np\n",
        "from sklearn.model_selection import train_test_split\n",
        "from sklearn.metrics import accuracy_score\n",
        "from sklearn.metrics import confusion_matrix\n",
        "#model imports\n",
        "from sklearn import tree #decision tree model\n",
        "from sklearn.linear_model import LogisticRegression #Logistic Regression\n",
        "from sklearn.linear_model import LinearRegression #Linear Regression\n",
        "from sklearn.ensemble import AdaBoostClassifier #Boosted Tree Classifier\n",
        "from sklearn.tree import DecisionTreeClassifier #Two Class Tree Classifier\n",
        "from sklearn.ensemble import RandomForestClassifier #Random Forest Classifier\n",
        "#graphing\n",
        "import matplotlib.pyplot as plt\n",
        "from pandas.plotting import register_matplotlib_converters\n",
        "register_matplotlib_converters()\n",
        "import seaborn as sns\n",
        "sns.set(style=\"darkgrid\")"
      ],
      "execution_count": 0,
      "outputs": []
    },
    {
      "cell_type": "markdown",
      "metadata": {
        "id": "bPrwGjvAAY_r",
        "colab_type": "text"
      },
      "source": [
        "HELPER FUNCTIONS"
      ]
    },
    {
      "cell_type": "code",
      "metadata": {
        "id": "BJPHN3qt_sje",
        "colab_type": "code",
        "colab": {}
      },
      "source": [
        "#function to calc Profit and Loss, and Outcome (+/- valuation for timeframe)\n",
        "#inputs are as follows:\n",
        "#cols = Date, Open, High, Low, Close, Volume, Feat1, Feat2; this is extracted from the dataframe\n",
        "#predArr = output from predict function of given model\n",
        "\n",
        "def modelEvalParams(DF, predArr, probFlag= None):\n",
        "  funcDF = DF.copy()\n",
        "  # create +/- Day col\n",
        "  #funcDF['Outcome'] = funcDF.apply(lambda x: 1 if x['Close'] > x['Open'] else -1, axis=1)\n",
        "\n",
        "  if probFlag == 'reg':\n",
        "    tempList = []\n",
        "    for i in range(0, len(predArr)):\n",
        "      if predArr[i] >= 0.5:\n",
        "        tempList.append(1)\n",
        "      else:\n",
        "        tempList.append(-1)\n",
        "\n",
        "    funcDF['Outcome'] = funcDF.apply(lambda x: 1 if x['Close'] > x['Open'] else -1, axis=1)\n",
        "    funcDF['Predictions'] = tempList\n",
        "    funcDF['AccMetric'] = np.where(funcDF['Predictions'] == funcDF['Outcome'], 1, 0)\n",
        "\n",
        "  elif probFlag == 'prob':\n",
        "    funcDF['ProbNegTrade'] = extractFrstVal(predArr)\n",
        "    funcDF['ProbPlusTrade'] = extractSecVal(predArr)\n",
        "    funcDF['Predictions'] = funcDF.apply(lambda x: 1 if x['ProbPlusTrade'] > x['ProbNegTrade'] else -1, axis=1)\n",
        "    funcDF['Outcome'] = funcDF.apply(lambda x: 1 if x['Close'] > x['Open'] else -1, axis=1)\n",
        "    funcDF['AccMetric'] = np.where(funcDF['Predictions'] == funcDF['Outcome'], 1, 0)\n",
        "    \n",
        "  else:\n",
        "    #pass predicted values to dataframe\n",
        "    funcDF['Predictions'] = predArr.ravel()\n",
        "    funcDF['Outcome'] = funcDF.apply(lambda x: 1 if x['Close'] > x['Open'] else -1, axis=1)\n",
        "    funcDF['AccMetric'] = np.where(funcDF['Predictions'] == funcDF['Outcome'], 1, 0)\n",
        "  # profit vs loss value\n",
        "  funcDF['pnl'] = funcDF['Close'] - funcDF['Open']\n",
        "  return funcDF"
      ],
      "execution_count": 0,
      "outputs": []
    },
    {
      "cell_type": "code",
      "metadata": {
        "id": "0iLm6FrR_1X5",
        "colab_type": "code",
        "colab": {}
      },
      "source": [
        "#Function takes in the test dataframe, y-predicted values (array), model type (String input)\n",
        "\n",
        "def modelPerfMeasures(DF, mdlTyp, probFlag=None):\n",
        "  funcDF = DF.copy() #copy of dataframe to be modified\n",
        "\n",
        "  if probFlag == 'prob':\n",
        "    yPredict = funcDF.apply(lambda x: 1 if x['ProbPlusTrade'] > x['ProbNegTrade'] else -1, axis=1)\n",
        "    funcDF['Predictions'] = yPredict\n",
        "    yTrue = funcDF['Outcome'].ravel()\n",
        "\n",
        "  else:\n",
        "    yPredict = funcDF['Predictions'].ravel()\n",
        "    yTrue = funcDF['Outcome'].ravel()\n",
        "\n",
        "  #Sharpe Ratio Calc \n",
        "  pnlMean = funcDF['pnl'].mean()\n",
        "  pnlStd = funcDF['pnl'].std()\n",
        "  daysTraded = len(funcDF['pnl'])\n",
        "  sharpesharpeRatio = (np.sqrt(daysTraded)*(pnlMean/pnlStd))\n",
        "  \n",
        "  # multiplies each transaction by 2 to account for Buy and Sell actions\n",
        "  roundTurns = 2 * daysTraded\n",
        "  \n",
        "  #1st and Last trade day dates\n",
        "  endDate = len(funcDF)-1\n",
        "  lastTradeDay = funcDF['Date'][endDate]\n",
        "  try:\n",
        "    firstTradeDay = funcDF['Date'][0]\n",
        "  except:\n",
        "    firstTradeDay = funcDF['Date'][1]\n",
        "  \n",
        "  #total return\n",
        "  totalReturnVal = funcDF['pnl'].sum()\n",
        "  \n",
        "  #Confusion Matrix\n",
        "  try:\n",
        "    tn, fp, fn, tp = confusion_matrix(yTrue, yPredict).ravel()\n",
        "  except:\n",
        "    pass\n",
        "  \n",
        "  #Model selection print values \n",
        "  if mdlTyp == 'LR':\n",
        "    #Acc, Prec, Recall - Linear Regression\n",
        "    eval = accuracy_score(yTrue, yPredict)\n",
        "    print(\"Accuracy of Linear Regression Model is %f\" %(eval))\n",
        "    try:\n",
        "      precScore = tp/(tp + fp)\n",
        "      recallScore = tp/(tp + fn)\n",
        "      print(\"Precision of Linear Regression Model is %f\" %(precScore))\n",
        "      print(\"Recall of Linear Regression Model is %f\" %(recallScore))\n",
        "    except:\n",
        "      pass\n",
        "    \n",
        "  elif mdlTyp == 'BDT':\n",
        "    #Acc, Prec, Recall - Boosted Tree Classifier\n",
        "    eval = accuracy_score(yTrue, yPredict)\n",
        "    print(\"Accuracy of Boosted Tree Model is %f\" %(eval))\n",
        "    try:\n",
        "      precScore = tp/(tp + fp)\n",
        "      recallScore = tp/(tp + fn)\n",
        "      print(\"Precision of Boosted Tree Model is %f\" %(precScore))\n",
        "      print(\"Recall of Boosted Tree Model is %f\" %(recallScore))\n",
        "    except:\n",
        "      pass\n",
        "\n",
        "  elif mdlTyp == 'RFC':\n",
        "    #Acc, Prec, Recall - Random Forest Classifier\n",
        "    eval = accuracy_score(yTrue, yPredict)\n",
        "    print(\"Accuracy of Random Forest Model is %f\" %(eval))\n",
        "    try:\n",
        "      precScore = tp/(tp + fp)\n",
        "      recallScore = tp/(tp + fn)\n",
        "      print(\"Precision of Random Forest Model is %f\" %(precScore))\n",
        "      print(\"Recall of Random Forest Model is %f\" %(recallScore))\n",
        "    except:\n",
        "      pass\n",
        "\n",
        "  elif mdlTyp == 'DT':\n",
        "    #Acc, Prec, Recall - Decision Tree Classifier\n",
        "    eval = accuracy_score(yTrue, yPredict)\n",
        "    print(\"Accuracy of Decision Tree Model is %f\" %(eval))\n",
        "    try:\n",
        "      precScore = tp/(tp + fp)\n",
        "      recallScore = tp/(tp + fn)\n",
        "      print(\"Precision of Decision Tree Model is %f\" %(precScore))\n",
        "      print(\"Recall of Decision Tree Model is %f\" %(recallScore))\n",
        "    except:\n",
        "      pass\n",
        "\n",
        "  elif mdlTyp ==  'LC':\n",
        "    #Acc, Prec, Recall - Logistic Classifier\n",
        "    eval = accuracy_score(yTrue, yPredict)\n",
        "    print(\"Accuracy of Logistic Classifier Model is %f\" %(eval))\n",
        "    try:\n",
        "      precScore = tp/(tp + fp)\n",
        "      recallScore = tp/(tp + fn)\n",
        "      print(\"Precision of Logistic Classifier Model is %f\" %(precScore))\n",
        "      print(\"Recall of Logistic Classifier Model is %f\" %(recallScore))\n",
        "    except:\n",
        "      pass\n",
        "\n",
        "  else:\n",
        "    print(\"***Model Type Error***\")\n",
        "\n",
        "  print('Mean of PnL is %f' %(pnlMean))\n",
        "  print('Standard Dev of PnL is %f' % (pnlStd))\n",
        "  print('Sharpe is %f' % (sharpesharpeRatio))\n",
        "  print('Round turns is %f' % (roundTurns))\n",
        "  print('First trading day {}'.format(firstTradeDay))\n",
        "  print('Last trading day {}'.format(lastTradeDay))\n",
        "  print('Total return %f' % (totalReturnVal))\n",
        "  #print('Confusion Matrix Values: ', tn, fp, fn, tp)\n",
        "\n",
        "  #return only rows where we placed a trade\n",
        "  funcDF = funcDF[funcDF['Predictions'] == 1]\n",
        "  #cumulative sum of returns\n",
        "  funcDF['CumSumPnL'] = np.cumsum(funcDF['pnl'])\n",
        "\n",
        "  # Plot the gains from predictions\n",
        "  ax = plt.axes()\n",
        "  sns.lineplot(x=\"Date\", y=\"CumSumPnL\", data= funcDF)\n",
        "  ax.set_title(\"Cumulative Point Gains\")\n",
        "  plt.show()\n"
      ],
      "execution_count": 0,
      "outputs": []
    },
    {
      "cell_type": "code",
      "metadata": {
        "id": "yaBvmWjiLGHL",
        "colab_type": "code",
        "colab": {}
      },
      "source": [
        "# This is a helper function to trade 1 bar (for example 1 day) with a Buy order at opening session\n",
        "# and a Sell order at closing session. To protect against adverse movements of the price, a STOP order\n",
        "# will limit the loss to the stop level (stop parameter must be a negative number)\n",
        "# each bar must contains the following attributes: \n",
        "# Open, High, Low, Close prices as well as gain = Close - Open and lo = Low - Open\n",
        "\n",
        "def trade_with_stop(bar, slippage = 0, stop=None):\n",
        "    \"\"\"\n",
        "    Given a bar, with a gain obtained by the closing price - opening price\n",
        "    it applies a stop limit order to limit a negative loss\n",
        "    If stop is equal to None, then it returns bar['gain']\n",
        "    \"\"\"\n",
        "    bar['Gain'] = bar['Gain'] - slippage\n",
        "    if stop != None:\n",
        "        real_stop = stop - slippage\n",
        "        if bar['Lo']<=stop:\n",
        "            return real_stop\n",
        "    # stop == None    \n",
        "    return bar['Gain']"
      ],
      "execution_count": 0,
      "outputs": []
    },
    {
      "cell_type": "code",
      "metadata": {
        "id": "HDpLjoZDQywS",
        "colab_type": "code",
        "colab": {}
      },
      "source": [
        "#extracts first value from all lists within nested probability list\n",
        "def extractFrstVal(lst): \n",
        "    return [item[0] for item in lst] "
      ],
      "execution_count": 0,
      "outputs": []
    },
    {
      "cell_type": "code",
      "metadata": {
        "id": "gh7GgmlS6_6H",
        "colab_type": "code",
        "colab": {}
      },
      "source": [
        "#extracts second value from all lists within nested probability list\n",
        "def extractSecVal(lst): \n",
        "    return [item[1] for item in lst] "
      ],
      "execution_count": 0,
      "outputs": []
    },
    {
      "cell_type": "markdown",
      "metadata": {
        "id": "NyU2O9NSAhoK",
        "colab_type": "text"
      },
      "source": [
        "DATA ACQUISITION"
      ]
    },
    {
      "cell_type": "code",
      "metadata": {
        "id": "5DZkbLr6j9Um",
        "colab_type": "code",
        "colab": {}
      },
      "source": [
        "#Assign SP500 date to var, pulls stock data by finance symbol\n",
        "stock = yf.Ticker('^GSPC')"
      ],
      "execution_count": 0,
      "outputs": []
    },
    {
      "cell_type": "code",
      "metadata": {
        "id": "S-AO3h16nF0t",
        "colab_type": "code",
        "colab": {
          "base_uri": "https://localhost:8080/",
          "height": 1000
        },
        "outputId": "291f5d35-a547-4e81-f306-dd4bfb4319e2"
      },
      "source": [
        "#Get stocks info\n",
        "stock.info"
      ],
      "execution_count": 10,
      "outputs": [
        {
          "output_type": "execute_result",
          "data": {
            "text/plain": [
              "{'algorithm': None,\n",
              " 'ask': 3209.69,\n",
              " 'askSize': 0,\n",
              " 'averageDailyVolume10Day': 3494752857,\n",
              " 'averageVolume': 3520635555,\n",
              " 'averageVolume10days': 3494752857,\n",
              " 'beta': None,\n",
              " 'bid': 3133.75,\n",
              " 'bidSize': 0,\n",
              " 'circulatingSupply': None,\n",
              " 'currency': 'USD',\n",
              " 'dayHigh': 3182.68,\n",
              " 'dayLow': 3156.51,\n",
              " 'dividendRate': None,\n",
              " 'dividendYield': None,\n",
              " 'exDividendDate': None,\n",
              " 'exchange': 'SNP',\n",
              " 'exchangeTimezoneName': 'America/New_York',\n",
              " 'exchangeTimezoneShortName': 'EST',\n",
              " 'expireDate': None,\n",
              " 'fiftyDayAverage': 3101.2686,\n",
              " 'fiftyTwoWeekHigh': 3182.68,\n",
              " 'fiftyTwoWeekLow': 2346.58,\n",
              " 'fiveYearAvgDividendYield': None,\n",
              " 'forwardPE': None,\n",
              " 'fromCurrency': None,\n",
              " 'gmtOffSetMilliseconds': '-18000000',\n",
              " 'isEsgPopulated': False,\n",
              " 'lastMarket': None,\n",
              " 'logo_url': '',\n",
              " 'market': 'us_market',\n",
              " 'marketCap': None,\n",
              " 'maxAge': 1,\n",
              " 'maxSupply': None,\n",
              " 'messageBoardId': 'finmb_INDEXGSPC',\n",
              " 'navPrice': None,\n",
              " 'open': 3166.65,\n",
              " 'openInterest': None,\n",
              " 'payoutRatio': None,\n",
              " 'previousClose': 3168.57,\n",
              " 'priceHint': 2,\n",
              " 'priceToSalesTrailing12Months': None,\n",
              " 'quoteType': 'INDEX',\n",
              " 'regularMarketDayHigh': 3182.68,\n",
              " 'regularMarketDayLow': 3156.51,\n",
              " 'regularMarketOpen': 3166.65,\n",
              " 'regularMarketPreviousClose': 3168.57,\n",
              " 'regularMarketPrice': 3166.65,\n",
              " 'regularMarketVolume': 1956819988,\n",
              " 'shortName': 'S&P 500',\n",
              " 'startDate': None,\n",
              " 'strikePrice': None,\n",
              " 'symbol': '^GSPC',\n",
              " 'totalAssets': None,\n",
              " 'tradeable': False,\n",
              " 'trailingAnnualDividendRate': None,\n",
              " 'trailingAnnualDividendYield': None,\n",
              " 'twoHundredDayAverage': 2978.4119,\n",
              " 'volume': 1956819988,\n",
              " 'volume24Hr': None,\n",
              " 'volumeAllCurrencies': None,\n",
              " 'yield': None,\n",
              " 'ytdReturn': None}"
            ]
          },
          "metadata": {
            "tags": []
          },
          "execution_count": 10
        }
      ]
    },
    {
      "cell_type": "code",
      "metadata": {
        "id": "lS5AxLW270KP",
        "colab_type": "code",
        "colab": {
          "base_uri": "https://localhost:8080/",
          "height": 34
        },
        "outputId": "532f5c05-1017-4746-bc15-5875a07c91b6"
      },
      "source": [
        "#Scrape Yahoo Finance Function\n",
        "data = yf.download('^GSPC', period= 'ytd', interval='1d')"
      ],
      "execution_count": 11,
      "outputs": [
        {
          "output_type": "stream",
          "text": [
            "\r[*********************100%***********************]  1 of 1 completed\n"
          ],
          "name": "stdout"
        }
      ]
    },
    {
      "cell_type": "code",
      "metadata": {
        "id": "R7Z9RS1AwOSN",
        "colab_type": "code",
        "colab": {
          "base_uri": "https://localhost:8080/",
          "height": 136
        },
        "outputId": "671dcb81-afed-49e1-883b-6b41374c5aa4"
      },
      "source": [
        "data.head(2)"
      ],
      "execution_count": 12,
      "outputs": [
        {
          "output_type": "execute_result",
          "data": {
            "text/html": [
              "<div>\n",
              "<style scoped>\n",
              "    .dataframe tbody tr th:only-of-type {\n",
              "        vertical-align: middle;\n",
              "    }\n",
              "\n",
              "    .dataframe tbody tr th {\n",
              "        vertical-align: top;\n",
              "    }\n",
              "\n",
              "    .dataframe thead th {\n",
              "        text-align: right;\n",
              "    }\n",
              "</style>\n",
              "<table border=\"1\" class=\"dataframe\">\n",
              "  <thead>\n",
              "    <tr style=\"text-align: right;\">\n",
              "      <th></th>\n",
              "      <th>Open</th>\n",
              "      <th>High</th>\n",
              "      <th>Low</th>\n",
              "      <th>Close</th>\n",
              "      <th>Adj Close</th>\n",
              "      <th>Volume</th>\n",
              "    </tr>\n",
              "    <tr>\n",
              "      <th>Date</th>\n",
              "      <th></th>\n",
              "      <th></th>\n",
              "      <th></th>\n",
              "      <th></th>\n",
              "      <th></th>\n",
              "      <th></th>\n",
              "    </tr>\n",
              "  </thead>\n",
              "  <tbody>\n",
              "    <tr>\n",
              "      <th>2019-01-02</th>\n",
              "      <td>2476.959961</td>\n",
              "      <td>2519.489990</td>\n",
              "      <td>2467.469971</td>\n",
              "      <td>2510.030029</td>\n",
              "      <td>2510.030029</td>\n",
              "      <td>3733160000</td>\n",
              "    </tr>\n",
              "    <tr>\n",
              "      <th>2019-01-03</th>\n",
              "      <td>2491.919922</td>\n",
              "      <td>2493.139893</td>\n",
              "      <td>2443.959961</td>\n",
              "      <td>2447.889893</td>\n",
              "      <td>2447.889893</td>\n",
              "      <td>3822860000</td>\n",
              "    </tr>\n",
              "  </tbody>\n",
              "</table>\n",
              "</div>"
            ],
            "text/plain": [
              "                   Open         High  ...    Adj Close      Volume\n",
              "Date                                  ...                         \n",
              "2019-01-02  2476.959961  2519.489990  ...  2510.030029  3733160000\n",
              "2019-01-03  2491.919922  2493.139893  ...  2447.889893  3822860000\n",
              "\n",
              "[2 rows x 6 columns]"
            ]
          },
          "metadata": {
            "tags": []
          },
          "execution_count": 12
        }
      ]
    },
    {
      "cell_type": "code",
      "metadata": {
        "id": "OVJgRrfqBMhj",
        "colab_type": "code",
        "colab": {}
      },
      "source": [
        "#set index to standard numeric and convert 'Date' to column\n",
        "data.reset_index(inplace=True)"
      ],
      "execution_count": 0,
      "outputs": []
    },
    {
      "cell_type": "code",
      "metadata": {
        "id": "eRGni-hD2EUV",
        "colab_type": "code",
        "colab": {
          "base_uri": "https://localhost:8080/",
          "height": 218
        },
        "outputId": "508e70b3-9031-4ef5-914f-ad305c674550"
      },
      "source": [
        "data.info()"
      ],
      "execution_count": 14,
      "outputs": [
        {
          "output_type": "stream",
          "text": [
            "<class 'pandas.core.frame.DataFrame'>\n",
            "RangeIndex: 241 entries, 0 to 240\n",
            "Data columns (total 7 columns):\n",
            "Date         241 non-null datetime64[ns]\n",
            "Open         241 non-null float64\n",
            "High         241 non-null float64\n",
            "Low          241 non-null float64\n",
            "Close        241 non-null float64\n",
            "Adj Close    241 non-null float64\n",
            "Volume       241 non-null int64\n",
            "dtypes: datetime64[ns](1), float64(5), int64(1)\n",
            "memory usage: 13.3 KB\n"
          ],
          "name": "stdout"
        }
      ]
    },
    {
      "cell_type": "code",
      "metadata": {
        "id": "eUvzh8ZiBv5N",
        "colab_type": "code",
        "colab": {}
      },
      "source": [
        "#drop 'Adj Close'\n",
        "data.drop('Adj Close', inplace=True, axis=1)"
      ],
      "execution_count": 0,
      "outputs": []
    },
    {
      "cell_type": "code",
      "metadata": {
        "id": "h8ZoXwwI-_XP",
        "colab_type": "code",
        "colab": {}
      },
      "source": [
        "#save finance dataframe to csv\n",
        "data.to_csv('yahooFinanceML.csv', index= False)"
      ],
      "execution_count": 0,
      "outputs": []
    },
    {
      "cell_type": "code",
      "metadata": {
        "id": "wDjTFUro9ow7",
        "colab_type": "code",
        "colab": {
          "base_uri": "https://localhost:8080/",
          "height": 301
        },
        "outputId": "5a132c2e-cb85-4f8d-ede3-0d91a332ef86"
      },
      "source": [
        "# Plot of Closing Values for S&P 500\n",
        "ax = plt.axes()\n",
        "sns.lineplot(x=\"Date\", y=\"Close\", data= data)\n",
        "ax.set_title('Daily Closing Value - S&P 500')\n",
        "plt.show()\n"
      ],
      "execution_count": 17,
      "outputs": [
        {
          "output_type": "display_data",
          "data": {
            "image/png": "[encoded data removed]",
            "text/plain": [
              "<Figure size 432x288 with 1 Axes>"
            ]
          },
          "metadata": {
            "tags": []
          }
        }
      ]
    },
    {
      "cell_type": "markdown",
      "metadata": {
        "id": "xBjUGEi7CwiZ",
        "colab_type": "text"
      },
      "source": [
        "BASIC FEATURE GENERATION"
      ]
    },
    {
      "cell_type": "code",
      "metadata": {
        "id": "pFrgJdO7C8Ms",
        "colab_type": "code",
        "colab": {}
      },
      "source": [
        "#add the outcome variable, 1 if the trading session was positive (close>open), -1 otherwise\n",
        "data['Outcome'] = np.where(data['Close'] > data['Open'], 1, -1)"
      ],
      "execution_count": 0,
      "outputs": []
    },
    {
      "cell_type": "code",
      "metadata": {
        "id": "dLDADan5B4fL",
        "colab_type": "code",
        "colab": {}
      },
      "source": [
        "#add three new columns ‘Ho’ ‘Lo’ and ‘Gain’\n",
        "#to backtest the model later\n",
        "data['Ho'] = data['High'] - data['Open'] #distance between Highest and Opening price\n",
        "data['Lo'] = data['Low'] - data['Open'] #distance between Lowest and Opening price\n",
        "data['Gain'] = data['Close'] - data['Open'] #distance between open and close price"
      ],
      "execution_count": 0,
      "outputs": []
    },
    {
      "cell_type": "code",
      "metadata": {
        "id": "AkUjFjszHCrO",
        "colab_type": "code",
        "colab": {}
      },
      "source": [
        "# GENERATE LAGGED TIMESERIES\n",
        "timeSeriesDay1 = data.copy().shift(1) # by 1 day\n",
        "timeSeriesDay2 = data.copy().shift(2) # by 2 days"
      ],
      "execution_count": 0,
      "outputs": []
    },
    {
      "cell_type": "code",
      "metadata": {
        "id": "rPE_gDNtHbu9",
        "colab_type": "code",
        "colab": {}
      },
      "source": [
        "#2 Engineered Features to identify if current days close value\n",
        "# is greater than last 1 and 2 days close value\n",
        "data['Feat1'] = data['Close'] > timeSeriesDay1['Close']\n",
        "data['Feat2'] = data['Close'] > timeSeriesDay2['Close']"
      ],
      "execution_count": 0,
      "outputs": []
    },
    {
      "cell_type": "code",
      "metadata": {
        "id": "oB81KmzeUhb5",
        "colab_type": "code",
        "colab": {}
      },
      "source": [
        "data['Feat1'] = np.where(data['Feat1'] == True, 1, 0)"
      ],
      "execution_count": 0,
      "outputs": []
    },
    {
      "cell_type": "code",
      "metadata": {
        "id": "wVmK3Z7ZUvZ8",
        "colab_type": "code",
        "colab": {}
      },
      "source": [
        "data['Feat2'] = np.where(data['Feat2'] == True, 1, 0)"
      ],
      "execution_count": 0,
      "outputs": []
    },
    {
      "cell_type": "code",
      "metadata": {
        "id": "TjXgpGCJ95dj",
        "colab_type": "code",
        "colab": {
          "base_uri": "https://localhost:8080/",
          "height": 302
        },
        "outputId": "d61c24a4-d7b0-4ca0-d4a5-9be15291e249"
      },
      "source": [
        "#check to ensure features generated successfully\n",
        "data.info()"
      ],
      "execution_count": 24,
      "outputs": [
        {
          "output_type": "stream",
          "text": [
            "<class 'pandas.core.frame.DataFrame'>\n",
            "RangeIndex: 241 entries, 0 to 240\n",
            "Data columns (total 12 columns):\n",
            "Date       241 non-null datetime64[ns]\n",
            "Open       241 non-null float64\n",
            "High       241 non-null float64\n",
            "Low        241 non-null float64\n",
            "Close      241 non-null float64\n",
            "Volume     241 non-null int64\n",
            "Outcome    241 non-null int64\n",
            "Ho         241 non-null float64\n",
            "Lo         241 non-null float64\n",
            "Gain       241 non-null float64\n",
            "Feat1      241 non-null int64\n",
            "Feat2      241 non-null int64\n",
            "dtypes: datetime64[ns](1), float64(7), int64(4)\n",
            "memory usage: 22.7 KB\n"
          ],
          "name": "stdout"
        }
      ]
    },
    {
      "cell_type": "code",
      "metadata": {
        "id": "emDsmjftHMzI",
        "colab_type": "code",
        "colab": {}
      },
      "source": [
        "#Create Train and Test datasets 80/20 split\n",
        "ratio = 0.8\n",
        "trainDF = data[0:round(len(data)*ratio)]\n",
        "testDF = data[round(len(data)*ratio):]"
      ],
      "execution_count": 0,
      "outputs": []
    },
    {
      "cell_type": "code",
      "metadata": {
        "id": "-13blty3HbN6",
        "colab_type": "code",
        "colab": {
          "base_uri": "https://localhost:8080/",
          "height": 34
        },
        "outputId": "cf5c3653-b38a-4ca2-a40c-539819b705c4"
      },
      "source": [
        "trainDF.shape"
      ],
      "execution_count": 26,
      "outputs": [
        {
          "output_type": "execute_result",
          "data": {
            "text/plain": [
              "(193, 12)"
            ]
          },
          "metadata": {
            "tags": []
          },
          "execution_count": 26
        }
      ]
    },
    {
      "cell_type": "code",
      "metadata": {
        "id": "tPPJr0kEHgAb",
        "colab_type": "code",
        "colab": {
          "base_uri": "https://localhost:8080/",
          "height": 34
        },
        "outputId": "90679974-d06e-41e4-a887-8a4180b08a28"
      },
      "source": [
        "testDF.shape"
      ],
      "execution_count": 27,
      "outputs": [
        {
          "output_type": "execute_result",
          "data": {
            "text/plain": [
              "(48, 12)"
            ]
          },
          "metadata": {
            "tags": []
          },
          "execution_count": 27
        }
      ]
    },
    {
      "cell_type": "code",
      "metadata": {
        "id": "KsQVzsXOKe5E",
        "colab_type": "code",
        "colab": {}
      },
      "source": [
        "testDF.reset_index(drop= True, inplace= True)"
      ],
      "execution_count": 0,
      "outputs": []
    },
    {
      "cell_type": "code",
      "metadata": {
        "id": "e5-FupAqQSQh",
        "colab_type": "code",
        "colab": {}
      },
      "source": [
        "trainX = trainDF.loc[:, ~trainDF.columns.isin(['Outcome'])]\n",
        "trainY = trainDF.loc[:, trainDF.columns.isin(['Outcome'])]"
      ],
      "execution_count": 0,
      "outputs": []
    },
    {
      "cell_type": "code",
      "metadata": {
        "id": "d5ccCY2nVAPQ",
        "colab_type": "code",
        "colab": {}
      },
      "source": [
        "testX = testDF.loc[:, ~testDF.columns.isin(['Outcome'])]\n",
        "testY = testDF.loc[:, testDF.columns.isin(['Outcome'])]"
      ],
      "execution_count": 0,
      "outputs": []
    },
    {
      "cell_type": "markdown",
      "metadata": {
        "id": "RQqzbFPbGFZr",
        "colab_type": "text"
      },
      "source": [
        "DECISION TREE CLASSIFIER"
      ]
    },
    {
      "cell_type": "code",
      "metadata": {
        "id": "ZvUfFlwzDF6v",
        "colab_type": "code",
        "colab": {}
      },
      "source": [
        "#assign model to var\n",
        "decisionTree = tree.DecisionTreeClassifier(max_depth=None)"
      ],
      "execution_count": 0,
      "outputs": []
    },
    {
      "cell_type": "code",
      "metadata": {
        "id": "ktSPUJAgD1Wa",
        "colab_type": "code",
        "colab": {
          "base_uri": "https://localhost:8080/",
          "height": 118
        },
        "outputId": "2780b5cd-f87a-44b8-adda-aa2cdbb64d9d"
      },
      "source": [
        "decisionTree"
      ],
      "execution_count": 32,
      "outputs": [
        {
          "output_type": "execute_result",
          "data": {
            "text/plain": [
              "DecisionTreeClassifier(class_weight=None, criterion='gini', max_depth=None,\n",
              "                       max_features=None, max_leaf_nodes=None,\n",
              "                       min_impurity_decrease=0.0, min_impurity_split=None,\n",
              "                       min_samples_leaf=1, min_samples_split=2,\n",
              "                       min_weight_fraction_leaf=0.0, presort=False,\n",
              "                       random_state=None, splitter='best')"
            ]
          },
          "metadata": {
            "tags": []
          },
          "execution_count": 32
        }
      ]
    },
    {
      "cell_type": "code",
      "metadata": {
        "id": "V0gurw0vD7YO",
        "colab_type": "code",
        "colab": {
          "base_uri": "https://localhost:8080/",
          "height": 118
        },
        "outputId": "960286c3-383f-4a3d-9e05-b6f99213a6f1"
      },
      "source": [
        "#Fitting model to train data\n",
        "decisionTree.fit(trainX.drop('Date', axis= 1), trainY)"
      ],
      "execution_count": 33,
      "outputs": [
        {
          "output_type": "execute_result",
          "data": {
            "text/plain": [
              "DecisionTreeClassifier(class_weight=None, criterion='gini', max_depth=None,\n",
              "                       max_features=None, max_leaf_nodes=None,\n",
              "                       min_impurity_decrease=0.0, min_impurity_split=None,\n",
              "                       min_samples_leaf=1, min_samples_split=2,\n",
              "                       min_weight_fraction_leaf=0.0, presort=False,\n",
              "                       random_state=None, splitter='best')"
            ]
          },
          "metadata": {
            "tags": []
          },
          "execution_count": 33
        }
      ]
    },
    {
      "cell_type": "code",
      "metadata": {
        "id": "GAFyHtqoEUdW",
        "colab_type": "code",
        "colab": {}
      },
      "source": [
        "yPredictDT = decisionTree.predict(testX.drop('Date', axis= 1))"
      ],
      "execution_count": 0,
      "outputs": []
    },
    {
      "cell_type": "code",
      "metadata": {
        "id": "DX-jJaPNJF0_",
        "colab_type": "code",
        "colab": {}
      },
      "source": [
        "#model evaluation dataframe\n",
        "decisionTreeDF = modelEvalParams(testX, yPredictDT)"
      ],
      "execution_count": 0,
      "outputs": []
    },
    {
      "cell_type": "code",
      "metadata": {
        "id": "n6Tup_55J6Rp",
        "colab_type": "code",
        "colab": {
          "base_uri": "https://localhost:8080/",
          "height": 469
        },
        "outputId": "6bdbf68e-3fba-4bd8-ac26-8166d4d33175"
      },
      "source": [
        "modelPerfMeasures(decisionTreeDF, 'DT')"
      ],
      "execution_count": 36,
      "outputs": [
        {
          "output_type": "stream",
          "text": [
            "Accuracy of Decision Tree Model is 0.979167\n",
            "Precision of Decision Tree Model is 1.000000\n",
            "Recall of Decision Tree Model is 0.966667\n",
            "Mean of PnL is 2.751022\n",
            "Standard Dev of PnL is 11.118419\n",
            "Sharpe is 1.714240\n",
            "Round turns is 96.000000\n",
            "First trading day 2019-10-08 00:00:00\n",
            "Last trading day 2019-12-13 00:00:00\n",
            "Total return 132.049072\n"
          ],
          "name": "stdout"
        },
        {
          "output_type": "display_data",
          "data": {
            "image/png": "[encoded data removed]",
            "text/plain": [
              "<Figure size 432x288 with 1 Axes>"
            ]
          },
          "metadata": {
            "tags": []
          }
        }
      ]
    },
    {
      "cell_type": "code",
      "metadata": {
        "id": "skQ8xB1oECif",
        "colab_type": "code",
        "colab": {}
      },
      "source": [
        "SLIPPAGE = 0.6\n",
        "STOP = -3\n",
        "trades = decisionTreeDF[decisionTreeDF['Predictions'] == 1][['Date', 'Gain', 'Ho', 'Lo', 'Open', 'Close']]"
      ],
      "execution_count": 0,
      "outputs": []
    },
    {
      "cell_type": "code",
      "metadata": {
        "id": "V2JpeMY7HAdR",
        "colab_type": "code",
        "colab": {}
      },
      "source": [
        "trades['pnl'] = trades.apply(lambda x: trade_with_stop(x, slippage=SLIPPAGE, stop=STOP), axis=1)"
      ],
      "execution_count": 0,
      "outputs": []
    },
    {
      "cell_type": "code",
      "metadata": {
        "id": "RRsm0mg1N_yw",
        "colab_type": "code",
        "colab": {}
      },
      "source": [
        "trades['pnl'] = np.cumsum(trades['pnl'])"
      ],
      "execution_count": 0,
      "outputs": []
    },
    {
      "cell_type": "code",
      "metadata": {
        "id": "to_WAz9rIM1Z",
        "colab_type": "code",
        "colab": {
          "base_uri": "https://localhost:8080/",
          "height": 301
        },
        "outputId": "d4c6f3f3-c39c-4d95-89fb-bab9faa5559f"
      },
      "source": [
        "# Plot the gains from predictions\n",
        "ax = plt.axes()\n",
        "sns.lineplot(x=\"Date\", y=\"pnl\", data= trades)\n",
        "ax.set_title(\"Cumulative Point Gains [Slippage, Stop] - Decision Tree\")\n",
        "plt.show()"
      ],
      "execution_count": 40,
      "outputs": [
        {
          "output_type": "display_data",
          "data": {
            "image/png": "[encoded data removed]",
            "text/plain": [
              "<Figure size 432x288 with 1 Axes>"
            ]
          },
          "metadata": {
            "tags": []
          }
        }
      ]
    },
    {
      "cell_type": "code",
      "metadata": {
        "id": "us3jyFrgG3y_",
        "colab_type": "code",
        "colab": {
          "base_uri": "https://localhost:8080/",
          "height": 34
        },
        "outputId": "b0120add-8d3d-4001-8d15-2054a3df0db3"
      },
      "source": [
        "print(\"Slippage is %s, STOP level at %s\" % (SLIPPAGE, STOP))"
      ],
      "execution_count": 41,
      "outputs": [
        {
          "output_type": "stream",
          "text": [
            "Slippage is 0.6, STOP level at -3\n"
          ],
          "name": "stdout"
        }
      ]
    },
    {
      "cell_type": "markdown",
      "metadata": {
        "id": "tXwTkcbWqa2Y",
        "colab_type": "text"
      },
      "source": [
        "PREDICTING PROBABILITY - DECISION TREE"
      ]
    },
    {
      "cell_type": "code",
      "metadata": {
        "id": "qE2xUmvLrgE8",
        "colab_type": "code",
        "colab": {}
      },
      "source": [
        "probDT = decisionTree.predict_proba(testX.drop('Date', axis= 1))"
      ],
      "execution_count": 0,
      "outputs": []
    },
    {
      "cell_type": "code",
      "metadata": {
        "id": "eyrQq-RMRSRM",
        "colab_type": "code",
        "colab": {}
      },
      "source": [
        "#model evaluation dataframe\n",
        "probDecisionTreeDF = modelEvalParams(testX, probDT, probFlag=True)"
      ],
      "execution_count": 0,
      "outputs": []
    },
    {
      "cell_type": "code",
      "metadata": {
        "id": "3t7n0ZJpUC91",
        "colab_type": "code",
        "colab": {
          "base_uri": "https://localhost:8080/",
          "height": 469
        },
        "outputId": "cdc24872-131d-468b-a334-b957997f3308"
      },
      "source": [
        "modelPerfMeasures(probDecisionTreeDF, 'DT', probFlag=True)"
      ],
      "execution_count": 44,
      "outputs": [
        {
          "output_type": "stream",
          "text": [
            "Accuracy of Decision Tree Model is 0.979167\n",
            "Precision of Decision Tree Model is 1.000000\n",
            "Recall of Decision Tree Model is 0.966667\n",
            "Mean of PnL is 2.751022\n",
            "Standard Dev of PnL is 11.118419\n",
            "Sharpe is 1.714240\n",
            "Round turns is 96.000000\n",
            "First trading day 2019-10-08 00:00:00\n",
            "Last trading day 2019-12-13 00:00:00\n",
            "Total return 132.049072\n"
          ],
          "name": "stdout"
        },
        {
          "output_type": "display_data",
          "data": {
            "image/png": "[encoded data removed]",
            "text/plain": [
              "<Figure size 432x288 with 1 Axes>"
            ]
          },
          "metadata": {
            "tags": []
          }
        }
      ]
    },
    {
      "cell_type": "code",
      "metadata": {
        "id": "Cs_ToEG6EtyH",
        "colab_type": "code",
        "colab": {}
      },
      "source": [
        "pnlProb = probDecisionTreeDF[probDecisionTreeDF['Predictions'] == 1]['Gain'] # the gain column contains (Close - Open) values"
      ],
      "execution_count": 0,
      "outputs": []
    },
    {
      "cell_type": "code",
      "metadata": {
        "id": "3NKmtZ0HB3DN",
        "colab_type": "code",
        "colab": {}
      },
      "source": [
        "drawdown = pnlProb - np.maximum.accumulate(pnlProb)\n",
        "max_drawdown = min(drawdown)"
      ],
      "execution_count": 0,
      "outputs": []
    },
    {
      "cell_type": "code",
      "metadata": {
        "id": "Zq3linzyDNGH",
        "colab_type": "code",
        "colab": {
          "base_uri": "https://localhost:8080/",
          "height": 34
        },
        "outputId": "0dac0c4c-d6dd-4070-8698-533c1ff4f506"
      },
      "source": [
        "max_drawdown"
      ],
      "execution_count": 47,
      "outputs": [
        {
          "output_type": "execute_result",
          "data": {
            "text/plain": [
              "-25.18994140625"
            ]
          },
          "metadata": {
            "tags": []
          },
          "execution_count": 47
        }
      ]
    },
    {
      "cell_type": "code",
      "metadata": {
        "id": "IcgDhM7ohD4F",
        "colab_type": "code",
        "colab": {}
      },
      "source": [
        "#bar = data\n",
        "#slippage = 0 - 1 decimal value to represent cost of trans\n",
        "#stop = lowest tolerated \"point\" deviation\n",
        "#mult = Dollar value per share\n",
        "#commission = Broker cost for trade\n",
        "#probability threshold to select positive day/signal to initiate trade at open and sell at close\n",
        "#target = outcome col class\n",
        "def backTestGain(bar, slippage = 0, stop= None, MULT = 25, COMMISSION = 1, threshold = 0.5):\n",
        "  bar['NetGain'] = (bar['Gain'] - slippage) * MULT - (2 * COMMISSION)\n",
        "  bar = bar[bar['ProbPlusTrade'] >= threshold]\n",
        "  if stop != None:\n",
        "    real_stop = stop - slippage\n",
        "    if bar['Lo']<=stop:\n",
        "      return real_stop\n",
        "  return bar"
      ],
      "execution_count": 0,
      "outputs": []
    },
    {
      "cell_type": "code",
      "metadata": {
        "id": "pauaHGxa_J8X",
        "colab_type": "code",
        "colab": {}
      },
      "source": [
        "probDecisionTreeDF = backTestGain(probDecisionTreeDF)"
      ],
      "execution_count": 0,
      "outputs": []
    },
    {
      "cell_type": "code",
      "metadata": {
        "id": "N3GArTnEaIPk",
        "colab_type": "code",
        "colab": {
          "base_uri": "https://localhost:8080/",
          "height": 435
        },
        "outputId": "ab66f26e-53d9-4aef-ce45-0e51208b7c34"
      },
      "source": [
        "modelPerfMeasures(probDecisionTreeDF, 'DT', probFlag=True)"
      ],
      "execution_count": 50,
      "outputs": [
        {
          "output_type": "stream",
          "text": [
            "Accuracy of Decision Tree Model is 1.000000\n",
            "Mean of PnL is 9.529617\n",
            "Standard Dev of PnL is 6.557712\n",
            "Sharpe is 7.825680\n",
            "Round turns is 58.000000\n",
            "First trading day 2019-10-09 00:00:00\n",
            "Last trading day 2019-11-15 00:00:00\n",
            "Total return 276.358887\n"
          ],
          "name": "stdout"
        },
        {
          "output_type": "display_data",
          "data": {
            "image/png": "[encoded data removed]",
            "text/plain": [
              "<Figure size 432x288 with 1 Axes>"
            ]
          },
          "metadata": {
            "tags": []
          }
        }
      ]
    },
    {
      "cell_type": "markdown",
      "metadata": {
        "id": "eYVAfjWtinfP",
        "colab_type": "text"
      },
      "source": [
        "LOGISTIC CLASSIFIER"
      ]
    },
    {
      "cell_type": "code",
      "metadata": {
        "id": "Cj1aVVKHR0AK",
        "colab_type": "code",
        "colab": {}
      },
      "source": [
        "modelLC = LogisticRegression(solver= 'lbfgs')"
      ],
      "execution_count": 0,
      "outputs": []
    },
    {
      "cell_type": "code",
      "metadata": {
        "id": "jR-gyusDSgWt",
        "colab_type": "code",
        "colab": {
          "base_uri": "https://localhost:8080/",
          "height": 101
        },
        "outputId": "488c7c25-4dfa-4209-d29f-6161833ea78e"
      },
      "source": [
        "modelLC.fit(trainX.drop('Date', axis=1), trainY.Outcome)"
      ],
      "execution_count": 237,
      "outputs": [
        {
          "output_type": "execute_result",
          "data": {
            "text/plain": [
              "LogisticRegression(C=1.0, class_weight=None, dual=False, fit_intercept=True,\n",
              "                   intercept_scaling=1, l1_ratio=None, max_iter=100,\n",
              "                   multi_class='warn', n_jobs=None, penalty='l2',\n",
              "                   random_state=None, solver='lbfgs', tol=0.0001, verbose=0,\n",
              "                   warm_start=False)"
            ]
          },
          "metadata": {
            "tags": []
          },
          "execution_count": 237
        }
      ]
    },
    {
      "cell_type": "code",
      "metadata": {
        "id": "0gnDf99ISlbr",
        "colab_type": "code",
        "colab": {}
      },
      "source": [
        "probLC = modelLC.predict_proba(testX.drop('Date', axis= 1))"
      ],
      "execution_count": 0,
      "outputs": []
    },
    {
      "cell_type": "code",
      "metadata": {
        "id": "guuY7gqLk_Qg",
        "colab_type": "code",
        "colab": {}
      },
      "source": [
        "#model evaluation dataframe\n",
        "probLCDF = modelEvalParams(testX, probLR, probFlag='prob')"
      ],
      "execution_count": 0,
      "outputs": []
    },
    {
      "cell_type": "code",
      "metadata": {
        "id": "pZSgEZSBlFas",
        "colab_type": "code",
        "colab": {
          "base_uri": "https://localhost:8080/",
          "height": 469
        },
        "outputId": "97ee94a0-54f2-45a7-dfa0-2d01f01bc32e"
      },
      "source": [
        "modelPerfMeasures(probLCDF, 'LC', probFlag='prob')"
      ],
      "execution_count": 243,
      "outputs": [
        {
          "output_type": "stream",
          "text": [
            "Accuracy of Logistic Classifier Model is 0.625000\n",
            "Precision of Logistic Classifier Model is 0.625000\n",
            "Recall of Logistic Classifier Model is 1.000000\n",
            "Mean of PnL is 2.751022\n",
            "Standard Dev of PnL is 11.118419\n",
            "Sharpe is 1.714240\n",
            "Round turns is 96.000000\n",
            "First trading day 2019-10-08 00:00:00\n",
            "Last trading day 2019-12-13 00:00:00\n",
            "Total return 132.049072\n"
          ],
          "name": "stdout"
        },
        {
          "output_type": "display_data",
          "data": {
            "image/png": "[encoded data removed]",
            "text/plain": [
              "<Figure size 432x288 with 1 Axes>"
            ]
          },
          "metadata": {
            "tags": []
          }
        }
      ]
    },
    {
      "cell_type": "code",
      "metadata": {
        "id": "ET4sq6WqY1WS",
        "colab_type": "code",
        "colab": {}
      },
      "source": [
        "pnlProb = probLRDF[probLRDF['Predictions'] == 1]"
      ],
      "execution_count": 0,
      "outputs": []
    },
    {
      "cell_type": "code",
      "metadata": {
        "id": "u8U8Xi3xZIbP",
        "colab_type": "code",
        "colab": {}
      },
      "source": [
        "SLIPPAGE = 0\n",
        "STOP = -3\n",
        "pnlProb['pnl'] = pnlProb.apply(lambda x: trade_with_stop(x, slippage=SLIPPAGE, stop=STOP), axis= 1)"
      ],
      "execution_count": 0,
      "outputs": []
    },
    {
      "cell_type": "code",
      "metadata": {
        "id": "AGZtHbh0nE09",
        "colab_type": "code",
        "colab": {}
      },
      "source": [
        "pnlProb['pnl'] = np.cumsum(pnlProb['pnl'])"
      ],
      "execution_count": 0,
      "outputs": []
    },
    {
      "cell_type": "code",
      "metadata": {
        "id": "ztbA_xFkcgaH",
        "colab_type": "code",
        "colab": {
          "base_uri": "https://localhost:8080/",
          "height": 301
        },
        "outputId": "78503e41-f041-4ec4-a7ec-8c78c727c0da"
      },
      "source": [
        "# Plot the gains from predictions\n",
        "ax = plt.axes()\n",
        "sns.lineplot(x=\"Date\", y=\"pnl\", data= pnlProb)\n",
        "ax.set_title(\"Cumulative Point Gains [Probability Prediction] - Logistic Classifier\")\n",
        "plt.show()"
      ],
      "execution_count": 59,
      "outputs": [
        {
          "output_type": "display_data",
          "data": {
            "image/png": "[encoded data removed]",
            "text/plain": [
              "<Figure size 432x288 with 1 Axes>"
            ]
          },
          "metadata": {
            "tags": []
          }
        }
      ]
    },
    {
      "cell_type": "markdown",
      "metadata": {
        "id": "ZNefA1HcnYx4",
        "colab_type": "text"
      },
      "source": [
        "LINEAR REGRESSION MODEL"
      ]
    },
    {
      "cell_type": "code",
      "metadata": {
        "id": "YAbaMp4NcPWV",
        "colab_type": "code",
        "colab": {}
      },
      "source": [
        "modelLR = LinearRegression(normalize=True)"
      ],
      "execution_count": 0,
      "outputs": []
    },
    {
      "cell_type": "code",
      "metadata": {
        "id": "PHULR3wbb1RB",
        "colab_type": "code",
        "colab": {
          "base_uri": "https://localhost:8080/",
          "height": 34
        },
        "outputId": "3f1ea648-1abc-4f29-eb07-206adf025813"
      },
      "source": [
        "modelLR.fit(trainX.drop('Date', axis= 1), trainYLR)"
      ],
      "execution_count": 188,
      "outputs": [
        {
          "output_type": "execute_result",
          "data": {
            "text/plain": [
              "LinearRegression(copy_X=True, fit_intercept=True, n_jobs=None, normalize=True)"
            ]
          },
          "metadata": {
            "tags": []
          },
          "execution_count": 188
        }
      ]
    },
    {
      "cell_type": "code",
      "metadata": {
        "id": "l1F5cgVWVQQp",
        "colab_type": "code",
        "colab": {}
      },
      "source": [
        "predictLR = modelLR.predict(testX.drop('Date', axis= 1))"
      ],
      "execution_count": 0,
      "outputs": []
    },
    {
      "cell_type": "code",
      "metadata": {
        "id": "czUDTfzMiGBw",
        "colab_type": "code",
        "colab": {}
      },
      "source": [
        "predictions_max, predictions_min = max(predictLR), min(predictLR)\n",
        "predictions_prob = (predictLR - predictions_min)/(predictions_max - predictions_min)"
      ],
      "execution_count": 0,
      "outputs": []
    },
    {
      "cell_type": "code",
      "metadata": {
        "id": "ieSbb3NSmex2",
        "colab_type": "code",
        "colab": {
          "base_uri": "https://localhost:8080/",
          "height": 34
        },
        "outputId": "82ffa3c1-5fa9-4208-e4cd-96d486ca3ed9"
      },
      "source": [
        "predictions_max, predictions_min"
      ],
      "execution_count": 204,
      "outputs": [
        {
          "output_type": "execute_result",
          "data": {
            "text/plain": [
              "(27.34008789062499, -29.97998046875)"
            ]
          },
          "metadata": {
            "tags": []
          },
          "execution_count": 204
        }
      ]
    },
    {
      "cell_type": "code",
      "metadata": {
        "id": "-m6Q7NjLV-8h",
        "colab_type": "code",
        "colab": {
          "base_uri": "https://localhost:8080/",
          "height": 185
        },
        "outputId": "d20060ba-ab98-404a-a13a-44225ab15f9f"
      },
      "source": [
        "predictions_prob"
      ],
      "execution_count": 205,
      "outputs": [
        {
          "output_type": "execute_result",
          "data": {
            "text/plain": [
              "array([0.04605955, 0.66782518, 0.86461541, 0.64863725, 0.52895653,\n",
              "       0.90805552, 0.52320228, 0.47382903, 0.33740092, 0.70167346,\n",
              "       0.2658753 , 0.70638419, 0.44469574, 0.8585119 , 0.65037929,\n",
              "       0.54919649, 0.64567281, 0.3600857 , 0.80547569, 0.510991  ,\n",
              "       0.4152132 , 0.55233556, 0.49092566, 0.72941397, 0.63956505,\n",
              "       0.56769016, 0.69504606, 0.62560748, 0.74179987, 0.59490679,\n",
              "       0.39619564, 0.41486394, 0.43667131, 0.50349046, 0.80565032,\n",
              "       0.62194452, 0.66503537, 0.41486394, 0.        , 0.62404007,\n",
              "       0.68457682, 0.49197344, 0.71998824, 0.4200943 , 0.47347977,\n",
              "       0.62560748, 1.        , 0.56053888])"
            ]
          },
          "metadata": {
            "tags": []
          },
          "execution_count": 205
        }
      ]
    },
    {
      "cell_type": "code",
      "metadata": {
        "id": "TpGltvPXgtqi",
        "colab_type": "code",
        "colab": {}
      },
      "source": [
        "#model evaluation dataframe\n",
        "modelLRDF = modelEvalParams(testX, predictions_prob, 'reg')"
      ],
      "execution_count": 0,
      "outputs": []
    },
    {
      "cell_type": "code",
      "metadata": {
        "id": "lcMzXmHjhEgd",
        "colab_type": "code",
        "colab": {
          "base_uri": "https://localhost:8080/",
          "height": 469
        },
        "outputId": "13cb2fe6-0156-4f36-8ce5-5b094882a6d5"
      },
      "source": [
        "modelPerfMeasures(modelLRDF, 'LR', probFlag='reg')"
      ],
      "execution_count": 203,
      "outputs": [
        {
          "output_type": "stream",
          "text": [
            "Accuracy of Linear Regression Model is 0.958333\n",
            "Precision of Linear Regression Model is 0.937500\n",
            "Recall of Linear Regression Model is 1.000000\n",
            "Mean of PnL is 2.751022\n",
            "Standard Dev of PnL is 11.118419\n",
            "Sharpe is 1.714240\n",
            "Round turns is 96.000000\n",
            "First trading day 2019-10-08 00:00:00\n",
            "Last trading day 2019-12-13 00:00:00\n",
            "Total return 132.049072\n"
          ],
          "name": "stdout"
        },
        {
          "output_type": "display_data",
          "data": {
            "image/png": "[encoded data removed]",
            "text/plain": [
              "<Figure size 432x288 with 1 Axes>"
            ]
          },
          "metadata": {
            "tags": []
          }
        }
      ]
    },
    {
      "cell_type": "markdown",
      "metadata": {
        "id": "VcUFu7FAnlHY",
        "colab_type": "text"
      },
      "source": [
        "BOOSTED DECISION TREE [ADABOOST]"
      ]
    },
    {
      "cell_type": "code",
      "metadata": {
        "id": "JIwIfFKWrEo3",
        "colab_type": "code",
        "colab": {}
      },
      "source": [
        "modelBDT = AdaBoostClassifier(DecisionTreeClassifier(max_depth=1),\n",
        "                         algorithm=\"SAMME\",\n",
        "                         n_estimators=100)"
      ],
      "execution_count": 0,
      "outputs": []
    },
    {
      "cell_type": "code",
      "metadata": {
        "id": "couyjThIxVCT",
        "colab_type": "code",
        "colab": {
          "base_uri": "https://localhost:8080/",
          "height": 269
        },
        "outputId": "95a07f9a-0931-4024-b9b6-8bba7e9194c9"
      },
      "source": [
        "modelBDT.fit(trainX.drop('Date', axis=1), trainY.Outcome)"
      ],
      "execution_count": 212,
      "outputs": [
        {
          "output_type": "execute_result",
          "data": {
            "text/plain": [
              "AdaBoostClassifier(algorithm='SAMME',\n",
              "                   base_estimator=DecisionTreeClassifier(class_weight=None,\n",
              "                                                         criterion='gini',\n",
              "                                                         max_depth=1,\n",
              "                                                         max_features=None,\n",
              "                                                         max_leaf_nodes=None,\n",
              "                                                         min_impurity_decrease=0.0,\n",
              "                                                         min_impurity_split=None,\n",
              "                                                         min_samples_leaf=1,\n",
              "                                                         min_samples_split=2,\n",
              "                                                         min_weight_fraction_leaf=0.0,\n",
              "                                                         presort=False,\n",
              "                                                         random_state=None,\n",
              "                                                         splitter='best'),\n",
              "                   learning_rate=1.0, n_estimators=100, random_state=None)"
            ]
          },
          "metadata": {
            "tags": []
          },
          "execution_count": 212
        }
      ]
    },
    {
      "cell_type": "code",
      "metadata": {
        "id": "2UifK1hLyBvb",
        "colab_type": "code",
        "colab": {}
      },
      "source": [
        "predictBDT = modelBDT.predict(testX.drop('Date', axis=1))"
      ],
      "execution_count": 0,
      "outputs": []
    },
    {
      "cell_type": "code",
      "metadata": {
        "id": "7pQIXwrJWzu1",
        "colab_type": "code",
        "colab": {}
      },
      "source": [
        "#model evaluation dataframe\n",
        "modelBDTDF = modelEvalParams(testX, predictBDT)"
      ],
      "execution_count": 0,
      "outputs": []
    },
    {
      "cell_type": "code",
      "metadata": {
        "id": "Hj15lLP0W1-5",
        "colab_type": "code",
        "colab": {
          "base_uri": "https://localhost:8080/",
          "height": 469
        },
        "outputId": "64337ba4-5306-4fe4-f004-bdcebf5459ad"
      },
      "source": [
        "modelPerfMeasures(modelBDTDF, 'BDT')"
      ],
      "execution_count": 219,
      "outputs": [
        {
          "output_type": "stream",
          "text": [
            "Accuracy of Boosted Tree Model is 0.979167\n",
            "Precision of Boosted Tree Model is 1.000000\n",
            "Recall of Boosted Tree Model is 0.966667\n",
            "Mean of PnL is 2.751022\n",
            "Standard Dev of PnL is 11.118419\n",
            "Sharpe is 1.714240\n",
            "Round turns is 96.000000\n",
            "First trading day 2019-10-08 00:00:00\n",
            "Last trading day 2019-12-13 00:00:00\n",
            "Total return 132.049072\n"
          ],
          "name": "stdout"
        },
        {
          "output_type": "display_data",
          "data": {
            "image/png": "[encoded data removed]",
            "text/plain": [
              "<Figure size 432x288 with 1 Axes>"
            ]
          },
          "metadata": {
            "tags": []
          }
        }
      ]
    },
    {
      "cell_type": "markdown",
      "metadata": {
        "id": "oahebh_6nyas",
        "colab_type": "text"
      },
      "source": [
        "RANDOM FOREST CLASSIFIER"
      ]
    },
    {
      "cell_type": "code",
      "metadata": {
        "id": "r_KOpiB51dE8",
        "colab_type": "code",
        "colab": {}
      },
      "source": [
        "modelRandF = RandomForestClassifier(max_depth=2, n_estimators=10, random_state=0)"
      ],
      "execution_count": 0,
      "outputs": []
    },
    {
      "cell_type": "code",
      "metadata": {
        "id": "Gf4jCP972ivg",
        "colab_type": "code",
        "colab": {
          "base_uri": "https://localhost:8080/",
          "height": 134
        },
        "outputId": "8b6bf27a-1b39-4681-bd31-ca9bc16deca3"
      },
      "source": [
        "modelRandF.fit(trainX.drop('Date', axis=1), trainY.Outcome)"
      ],
      "execution_count": 223,
      "outputs": [
        {
          "output_type": "execute_result",
          "data": {
            "text/plain": [
              "RandomForestClassifier(bootstrap=True, class_weight=None, criterion='gini',\n",
              "                       max_depth=2, max_features='auto', max_leaf_nodes=None,\n",
              "                       min_impurity_decrease=0.0, min_impurity_split=None,\n",
              "                       min_samples_leaf=1, min_samples_split=2,\n",
              "                       min_weight_fraction_leaf=0.0, n_estimators=10,\n",
              "                       n_jobs=None, oob_score=False, random_state=0, verbose=0,\n",
              "                       warm_start=False)"
            ]
          },
          "metadata": {
            "tags": []
          },
          "execution_count": 223
        }
      ]
    },
    {
      "cell_type": "code",
      "metadata": {
        "id": "T6RX90012707",
        "colab_type": "code",
        "colab": {}
      },
      "source": [
        "predictRandF = modelRandF.predict(testX.drop('Date', axis=1))"
      ],
      "execution_count": 0,
      "outputs": []
    },
    {
      "cell_type": "code",
      "metadata": {
        "id": "cWBtAJMlYGHB",
        "colab_type": "code",
        "colab": {}
      },
      "source": [
        "#model evaluation dataframe\n",
        "modelRFDF = modelEvalParams(testX, predictRandF)"
      ],
      "execution_count": 0,
      "outputs": []
    },
    {
      "cell_type": "code",
      "metadata": {
        "id": "UtpabRtJYRrt",
        "colab_type": "code",
        "colab": {
          "base_uri": "https://localhost:8080/",
          "height": 469
        },
        "outputId": "9674b020-e761-4c11-80a0-7eca289a7d8f"
      },
      "source": [
        "modelPerfMeasures(modelBDTDF, 'RFC')"
      ],
      "execution_count": 229,
      "outputs": [
        {
          "output_type": "stream",
          "text": [
            "Accuracy of Random Forest Model is 0.979167\n",
            "Precision of Random Forest Model is 1.000000\n",
            "Recall of Random Forest Model is 0.966667\n",
            "Mean of PnL is 2.751022\n",
            "Standard Dev of PnL is 11.118419\n",
            "Sharpe is 1.714240\n",
            "Round turns is 96.000000\n",
            "First trading day 2019-10-08 00:00:00\n",
            "Last trading day 2019-12-13 00:00:00\n",
            "Total return 132.049072\n"
          ],
          "name": "stdout"
        },
        {
          "output_type": "display_data",
          "data": {
            "image/png": "[encoded data removed]",
            "text/plain": [
              "<Figure size 432x288 with 1 Axes>"
            ]
          },
          "metadata": {
            "tags": []
          }
        }
      ]
    },
    {
      "cell_type": "markdown",
      "metadata": {
        "id": "zvfMMQAtn_Gk",
        "colab_type": "text"
      },
      "source": [
        "CUMULATIVE PnL VALUE FOR ALL MODELS"
      ]
    },
    {
      "cell_type": "code",
      "metadata": {
        "id": "k1ZMJbeDoE4T",
        "colab_type": "code",
        "colab": {}
      },
      "source": [
        "#model evaluation Random Forest\n",
        "modelRFDF = modelEvalParams(testX, predictRandF)\n",
        "\n",
        "#model evaluation Boosted Decision Tree [AdaBoost]\n",
        "modelBDTDF = modelEvalParams(testX, predictBDT)\n",
        "\n",
        "#model evaluation Linear Regression\n",
        "modelLRDF = modelEvalParams(testX, predictions_prob, 'reg')\n",
        "\n",
        "#model evaluation Logistic Regression\n",
        "probLCDF = modelEvalParams(testX, probLR, probFlag='prob')\n",
        "\n",
        "#model evaluation Decision Tree\n",
        "decisionTreeDF = modelEvalParams(testX, yPredictDT)"
      ],
      "execution_count": 0,
      "outputs": []
    },
    {
      "cell_type": "code",
      "metadata": {
        "id": "vWWk3KcWaay1",
        "colab_type": "code",
        "colab": {}
      },
      "source": [
        "conCatPnL = pd.concat([modelRFDF['pnl'], modelBDTDF['pnl'], modelLRDF['pnl'], probLCDF['pnl'], decisionTreeDF['pnl']], axis=1)"
      ],
      "execution_count": 0,
      "outputs": []
    },
    {
      "cell_type": "code",
      "metadata": {
        "id": "-PZQ8JZjbSfW",
        "colab_type": "code",
        "colab": {}
      },
      "source": [
        "conCatPnL['PnlSum'] = concatPnL.sum(axis=1)"
      ],
      "execution_count": 0,
      "outputs": []
    },
    {
      "cell_type": "code",
      "metadata": {
        "id": "9jsvkI6pj_jf",
        "colab_type": "code",
        "colab": {}
      },
      "source": [
        "pnlSumArr = conCatPnL.PnlSum"
      ],
      "execution_count": 0,
      "outputs": []
    },
    {
      "cell_type": "code",
      "metadata": {
        "id": "x35V_fPRkRq8",
        "colab_type": "code",
        "colab": {}
      },
      "source": [
        "pnlCumSumArr = np.cumsum(pnlSumArr)"
      ],
      "execution_count": 0,
      "outputs": []
    },
    {
      "cell_type": "code",
      "metadata": {
        "id": "roE-kMwNjnsH",
        "colab_type": "code",
        "colab": {
          "base_uri": "https://localhost:8080/",
          "height": 284
        },
        "outputId": "a7077c72-805a-42da-e5c5-43bf817ea8d4"
      },
      "source": [
        "# Plot the gains from predictions\n",
        "ax = plt.axes()\n",
        "sns.lineplot(data= pnlCumSumArr)\n",
        "ax.set_title(\"Cumulative PnL of ALL Models\")\n",
        "plt.show()"
      ],
      "execution_count": 278,
      "outputs": [
        {
          "output_type": "display_data",
          "data": {
            "image/png": "[encoded data removed]",
            "text/plain": [
              "<Figure size 432x288 with 1 Axes>"
            ]
          },
          "metadata": {
            "tags": []
          }
        }
      ]
    },
    {
      "cell_type": "code",
      "metadata": {
        "id": "4YwntZV3eV4e",
        "colab_type": "code",
        "colab": {
          "base_uri": "https://localhost:8080/",
          "height": 77
        },
        "outputId": "d193ea31-2018-4f91-cae8-098b541fd948"
      },
      "source": [
        "modelLRDF.head(1)"
      ],
      "execution_count": 261,
      "outputs": [
        {
          "output_type": "execute_result",
          "data": {
            "text/html": [
              "<div>\n",
              "<style scoped>\n",
              "    .dataframe tbody tr th:only-of-type {\n",
              "        vertical-align: middle;\n",
              "    }\n",
              "\n",
              "    .dataframe tbody tr th {\n",
              "        vertical-align: top;\n",
              "    }\n",
              "\n",
              "    .dataframe thead th {\n",
              "        text-align: right;\n",
              "    }\n",
              "</style>\n",
              "<table border=\"1\" class=\"dataframe\">\n",
              "  <thead>\n",
              "    <tr style=\"text-align: right;\">\n",
              "      <th></th>\n",
              "      <th>Date</th>\n",
              "      <th>Open</th>\n",
              "      <th>High</th>\n",
              "      <th>Low</th>\n",
              "      <th>Close</th>\n",
              "      <th>Volume</th>\n",
              "      <th>Ho</th>\n",
              "      <th>Lo</th>\n",
              "      <th>Gain</th>\n",
              "      <th>Feat1</th>\n",
              "      <th>Feat2</th>\n",
              "      <th>Outcome</th>\n",
              "      <th>Predictions</th>\n",
              "      <th>AccMetric</th>\n",
              "      <th>pnl</th>\n",
              "    </tr>\n",
              "  </thead>\n",
              "  <tbody>\n",
              "    <tr>\n",
              "      <th>0</th>\n",
              "      <td>2019-10-08</td>\n",
              "      <td>2920.399902</td>\n",
              "      <td>2925.469971</td>\n",
              "      <td>2892.659912</td>\n",
              "      <td>2893.060059</td>\n",
              "      <td>3356450000</td>\n",
              "      <td>5.070068</td>\n",
              "      <td>-27.73999</td>\n",
              "      <td>-27.339844</td>\n",
              "      <td>0</td>\n",
              "      <td>0</td>\n",
              "      <td>-1</td>\n",
              "      <td>-1</td>\n",
              "      <td>1</td>\n",
              "      <td>-27.339844</td>\n",
              "    </tr>\n",
              "  </tbody>\n",
              "</table>\n",
              "</div>"
            ],
            "text/plain": [
              "        Date         Open         High  ...  Predictions  AccMetric        pnl\n",
              "0 2019-10-08  2920.399902  2925.469971  ...           -1          1 -27.339844\n",
              "\n",
              "[1 rows x 15 columns]"
            ]
          },
          "metadata": {
            "tags": []
          },
          "execution_count": 261
        }
      ]
    },
    {
      "cell_type": "markdown",
      "metadata": {
        "id": "MIpkAQLHk3qG",
        "colab_type": "text"
      },
      "source": [
        "ALL MODELS - PRECISION"
      ]
    },
    {
      "cell_type": "code",
      "metadata": {
        "id": "qbj8UpRwPDYO",
        "colab_type": "code",
        "colab": {}
      },
      "source": [
        "def sharpeRatioCalc(DF):\n",
        "  pnlMean = DF['pnl'].mean()\n",
        "  pnlStd = DF['pnl'].std()\n",
        "  daysTraded = len(DF['pnl'])\n",
        "  sharpeRatio = (np.sqrt(daysTraded)*(pnlMean/pnlStd))\n",
        "  return sharpeRatio"
      ],
      "execution_count": 0,
      "outputs": []
    },
    {
      "cell_type": "code",
      "metadata": {
        "id": "0zMqtBZBnshz",
        "colab_type": "code",
        "colab": {}
      },
      "source": [
        "from sklearn.metrics import accuracy_score\n",
        "\n",
        "from sklearn.metrics import precision_score"
      ],
      "execution_count": 0,
      "outputs": []
    },
    {
      "cell_type": "code",
      "metadata": {
        "id": "nZ2X9sxnk7HL",
        "colab_type": "code",
        "colab": {}
      },
      "source": [
        "def modelAcPrec(DF1):\n",
        "  dfTemp = []\n",
        "  dfTemp.append(accuracy_score(DF1.Outcome.values, DF1.Predictions.values))\n",
        "  dfTemp.append(precision_score(DF1.Outcome.values, DF1.Predictions.values))\n",
        "  dfTemp.append(sharpeRatioCalc(DF1))\n",
        "  dfTemp.append(2 * len(DF1['pnl']))\n",
        "  return dfTemp"
      ],
      "execution_count": 0,
      "outputs": []
    },
    {
      "cell_type": "code",
      "metadata": {
        "id": "bZTFXLkuqnwZ",
        "colab_type": "code",
        "colab": {}
      },
      "source": [
        "linRegres = modelAcPrec(modelLRDF)"
      ],
      "execution_count": 0,
      "outputs": []
    },
    {
      "cell_type": "code",
      "metadata": {
        "id": "rNlFXG-tuKHu",
        "colab_type": "code",
        "colab": {}
      },
      "source": [
        "ranForest = modelAcPrec(modelRFDF)"
      ],
      "execution_count": 0,
      "outputs": []
    },
    {
      "cell_type": "code",
      "metadata": {
        "id": "WcN6cB7quU5i",
        "colab_type": "code",
        "colab": {}
      },
      "source": [
        "boostTree = modelAcPrec(modelBDTDF)"
      ],
      "execution_count": 0,
      "outputs": []
    },
    {
      "cell_type": "code",
      "metadata": {
        "id": "OI19LdCtucgH",
        "colab_type": "code",
        "colab": {}
      },
      "source": [
        "decTree = modelAcPrec(decisionTreeDF)"
      ],
      "execution_count": 0,
      "outputs": []
    },
    {
      "cell_type": "code",
      "metadata": {
        "id": "0iQriekNujTj",
        "colab_type": "code",
        "colab": {}
      },
      "source": [
        "logRegres = modelAcPrec(probLCDF)"
      ],
      "execution_count": 0,
      "outputs": []
    },
    {
      "cell_type": "code",
      "metadata": {
        "id": "KE9AzzY5vCQI",
        "colab_type": "code",
        "colab": {
          "base_uri": "https://localhost:8080/",
          "height": 195
        },
        "outputId": "3b037c51-81f3-4178-a246-1f78b46e71ed"
      },
      "source": [
        "# output trans dataframe, cols are accuracy, precision, sharpe, turns\n",
        "tempDF = pd.DataFrame()\n",
        "tempDF['LinearRegress'] = linRegres\n",
        "tempDF['RandomForest'] = ranForest\n",
        "tempDF['Boosted Tree'] = boostTree\n",
        "tempDF['DecisionTree'] = decTree\n",
        "tempDF['LogisticRegress'] = logRegres\n",
        "tempDF.T"
      ],
      "execution_count": 322,
      "outputs": [
        {
          "output_type": "execute_result",
          "data": {
            "text/html": [
              "<div>\n",
              "<style scoped>\n",
              "    .dataframe tbody tr th:only-of-type {\n",
              "        vertical-align: middle;\n",
              "    }\n",
              "\n",
              "    .dataframe tbody tr th {\n",
              "        vertical-align: top;\n",
              "    }\n",
              "\n",
              "    .dataframe thead th {\n",
              "        text-align: right;\n",
              "    }\n",
              "</style>\n",
              "<table border=\"1\" class=\"dataframe\">\n",
              "  <thead>\n",
              "    <tr style=\"text-align: right;\">\n",
              "      <th></th>\n",
              "      <th>0</th>\n",
              "      <th>1</th>\n",
              "      <th>2</th>\n",
              "      <th>3</th>\n",
              "    </tr>\n",
              "  </thead>\n",
              "  <tbody>\n",
              "    <tr>\n",
              "      <th>LinearRegress</th>\n",
              "      <td>0.958333</td>\n",
              "      <td>0.9375</td>\n",
              "      <td>1.71424</td>\n",
              "      <td>96.0</td>\n",
              "    </tr>\n",
              "    <tr>\n",
              "      <th>RandomForest</th>\n",
              "      <td>1.000000</td>\n",
              "      <td>1.0000</td>\n",
              "      <td>1.71424</td>\n",
              "      <td>96.0</td>\n",
              "    </tr>\n",
              "    <tr>\n",
              "      <th>Boosted Tree</th>\n",
              "      <td>0.979167</td>\n",
              "      <td>1.0000</td>\n",
              "      <td>1.71424</td>\n",
              "      <td>96.0</td>\n",
              "    </tr>\n",
              "    <tr>\n",
              "      <th>DecisionTree</th>\n",
              "      <td>0.979167</td>\n",
              "      <td>1.0000</td>\n",
              "      <td>1.71424</td>\n",
              "      <td>96.0</td>\n",
              "    </tr>\n",
              "    <tr>\n",
              "      <th>LogisticRegress</th>\n",
              "      <td>0.625000</td>\n",
              "      <td>0.6250</td>\n",
              "      <td>1.71424</td>\n",
              "      <td>96.0</td>\n",
              "    </tr>\n",
              "  </tbody>\n",
              "</table>\n",
              "</div>"
            ],
            "text/plain": [
              "                        0       1        2     3\n",
              "LinearRegress    0.958333  0.9375  1.71424  96.0\n",
              "RandomForest     1.000000  1.0000  1.71424  96.0\n",
              "Boosted Tree     0.979167  1.0000  1.71424  96.0\n",
              "DecisionTree     0.979167  1.0000  1.71424  96.0\n",
              "LogisticRegress  0.625000  0.6250  1.71424  96.0"
            ]
          },
          "metadata": {
            "tags": []
          },
          "execution_count": 322
        }
      ]
    },
    {
      "cell_type": "markdown",
      "metadata": {
        "id": "vBRufm5Iwnau",
        "colab_type": "text"
      },
      "source": [
        "ALL MODEL AGGREGATION"
      ]
    },
    {
      "cell_type": "code",
      "metadata": {
        "id": "tZXi7S-gwuKx",
        "colab_type": "code",
        "colab": {}
      },
      "source": [
        "#place models in order from largest singular precision to least\n",
        "def aggAllModelsFinance(m1, m2, m3, m4, m5):\n",
        "  m1p = m1[1]\n",
        "  m2p = m2[1]\n",
        "  m3p = m3[1]\n",
        "  m4p = m4[1]\n",
        "  m5p = m5[1]\n",
        "  print('One Model Precision: ')\n",
        "  print(m1p)\n",
        "  print('Two Models Precision: ')\n",
        "  print(m1p + m2p / 2)\n",
        "  print('Three Models Precision: ')\n",
        "  print(m1p + m2p + m3p / 3)\n",
        "  print('Four Models Precision: ')\n",
        "  print(m1p + m2p + m3p + m4p / 4)\n",
        "  print('Five Models Precision: ')\n",
        "  print(m1p + m2p + m3p + m4p + m5p / 5)\n"
      ],
      "execution_count": 0,
      "outputs": []
    },
    {
      "cell_type": "code",
      "metadata": {
        "id": "3wX_QIHCv3FH",
        "colab_type": "code",
        "colab": {}
      },
      "source": [
        ""
      ],
      "execution_count": 0,
      "outputs": []
    }
  ]
}